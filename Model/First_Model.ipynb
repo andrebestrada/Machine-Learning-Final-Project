{
 "cells": [
  {
   "cell_type": "markdown",
   "id": "4c9e9f8e",
   "metadata": {},
   "source": [
    "# Modelo 01\n",
    "\n",
    "<hr>\n",
    "\n",
    "## Cleaning and Processing Machine Learning data"
   ]
  },
  {
   "cell_type": "code",
   "execution_count": 87,
   "id": "d2b55884",
   "metadata": {},
   "outputs": [],
   "source": [
    "import pandas as pd\n",
    "import os\n",
    "import json"
   ]
  },
  {
   "cell_type": "code",
   "execution_count": 88,
   "id": "390d114b",
   "metadata": {},
   "outputs": [],
   "source": [
    "# houses = json.load(open('../../EDOMEX_houses.json'))\n",
    "# apartments = json.load(open('../../EDOMEX_apartments.json'))"
   ]
  },
  {
   "cell_type": "code",
   "execution_count": 89,
   "id": "1498de8d",
   "metadata": {},
   "outputs": [],
   "source": [
    "df_houses = pd.read_json('../../EDOMEX_houses.json')\n",
    "df_apartments = pd.read_json('../../EDOMEX_apartments.json')"
   ]
  },
  {
   "cell_type": "code",
   "execution_count": 90,
   "id": "b35f9c05",
   "metadata": {},
   "outputs": [],
   "source": [
    "df_complete = df_houses.append(df_apartments)\n",
    "# df_complete"
   ]
  },
  {
   "cell_type": "code",
   "execution_count": 91,
   "id": "4a8b8b1e",
   "metadata": {},
   "outputs": [
    {
     "data": {
      "text/html": [
       "<div>\n",
       "<style scoped>\n",
       "    .dataframe tbody tr th:only-of-type {\n",
       "        vertical-align: middle;\n",
       "    }\n",
       "\n",
       "    .dataframe tbody tr th {\n",
       "        vertical-align: top;\n",
       "    }\n",
       "\n",
       "    .dataframe thead th {\n",
       "        text-align: right;\n",
       "    }\n",
       "</style>\n",
       "<table border=\"1\" class=\"dataframe\">\n",
       "  <thead>\n",
       "    <tr style=\"text-align: right;\">\n",
       "      <th></th>\n",
       "      <th>url</th>\n",
       "      <th>type_of_offer</th>\n",
       "      <th>type_of_prop</th>\n",
       "      <th>name</th>\n",
       "      <th>price</th>\n",
       "      <th>currency</th>\n",
       "      <th>Estado</th>\n",
       "      <th>Ciudad</th>\n",
       "      <th>Colonia</th>\n",
       "      <th>Superficie total</th>\n",
       "      <th>...</th>\n",
       "      <th>Cantidad de pisos</th>\n",
       "      <th>Cuota mensual de mantenimiento</th>\n",
       "      <th>Bodegas</th>\n",
       "      <th>Orientación</th>\n",
       "      <th>Tipo de casa</th>\n",
       "      <th>Tipo de propiedad</th>\n",
       "      <th>Departamentos por piso</th>\n",
       "      <th>Número de piso de la unidad</th>\n",
       "      <th>Disposición</th>\n",
       "      <th>Tipo de departamento</th>\n",
       "    </tr>\n",
       "  </thead>\n",
       "  <tbody>\n",
       "    <tr>\n",
       "      <th>0</th>\n",
       "      <td>https://casa.metroscubicos.com/MLM-959176385-v...</td>\n",
       "      <td>sale</td>\n",
       "      <td>houses</td>\n",
       "      <td>Venta Casa Ezequiel Chávez, Ciudad Satélite.</td>\n",
       "      <td>10800000</td>\n",
       "      <td>MXN</td>\n",
       "      <td>Estado De México</td>\n",
       "      <td>Naucalpan</td>\n",
       "      <td>Ciudad Satélite</td>\n",
       "      <td>525.0</td>\n",
       "      <td>...</td>\n",
       "      <td>NaN</td>\n",
       "      <td>NaN</td>\n",
       "      <td>NaN</td>\n",
       "      <td>NaN</td>\n",
       "      <td>NaN</td>\n",
       "      <td>NaN</td>\n",
       "      <td>NaN</td>\n",
       "      <td>NaN</td>\n",
       "      <td>NaN</td>\n",
       "      <td>NaN</td>\n",
       "    </tr>\n",
       "    <tr>\n",
       "      <th>1</th>\n",
       "      <td>https://casa.metroscubicos.com/MLM-960867980-e...</td>\n",
       "      <td>sale</td>\n",
       "      <td>houses</td>\n",
       "      <td>Espectacular Residencia En Lomas De Tecamachalco</td>\n",
       "      <td>19900000</td>\n",
       "      <td>MXN</td>\n",
       "      <td>Estado De México</td>\n",
       "      <td>Naucalpan</td>\n",
       "      <td>Lomas De Tecamachalco</td>\n",
       "      <td>282.0</td>\n",
       "      <td>...</td>\n",
       "      <td>NaN</td>\n",
       "      <td>NaN</td>\n",
       "      <td>NaN</td>\n",
       "      <td>NaN</td>\n",
       "      <td>NaN</td>\n",
       "      <td>NaN</td>\n",
       "      <td>NaN</td>\n",
       "      <td>NaN</td>\n",
       "      <td>NaN</td>\n",
       "      <td>NaN</td>\n",
       "    </tr>\n",
       "    <tr>\n",
       "      <th>2</th>\n",
       "      <td>https://casa.metroscubicos.com/MLM-959186781-r...</td>\n",
       "      <td>sale</td>\n",
       "      <td>houses</td>\n",
       "      <td>Residencia En Venta Vista Del Valle</td>\n",
       "      <td>14500000</td>\n",
       "      <td>MXN</td>\n",
       "      <td>Estado De México</td>\n",
       "      <td>Naucalpan</td>\n",
       "      <td>Vista Del Valle II, III, IV y IX</td>\n",
       "      <td>750.0</td>\n",
       "      <td>...</td>\n",
       "      <td>NaN</td>\n",
       "      <td>NaN</td>\n",
       "      <td>NaN</td>\n",
       "      <td>NaN</td>\n",
       "      <td>NaN</td>\n",
       "      <td>NaN</td>\n",
       "      <td>NaN</td>\n",
       "      <td>NaN</td>\n",
       "      <td>NaN</td>\n",
       "      <td>NaN</td>\n",
       "    </tr>\n",
       "    <tr>\n",
       "      <th>3</th>\n",
       "      <td>https://casa.metroscubicos.com/MLM-958325468-v...</td>\n",
       "      <td>sale</td>\n",
       "      <td>houses</td>\n",
       "      <td>Venta Casa Paseo Satelite</td>\n",
       "      <td>8900000</td>\n",
       "      <td>MXN</td>\n",
       "      <td>Estado De México</td>\n",
       "      <td>Naucalpan</td>\n",
       "      <td>Santa Cruz Del Monte</td>\n",
       "      <td>196.0</td>\n",
       "      <td>...</td>\n",
       "      <td>NaN</td>\n",
       "      <td>NaN</td>\n",
       "      <td>NaN</td>\n",
       "      <td>NaN</td>\n",
       "      <td>NaN</td>\n",
       "      <td>NaN</td>\n",
       "      <td>NaN</td>\n",
       "      <td>NaN</td>\n",
       "      <td>NaN</td>\n",
       "      <td>NaN</td>\n",
       "    </tr>\n",
       "    <tr>\n",
       "      <th>4</th>\n",
       "      <td>https://casa.metroscubicos.com/MLM-941274503-c...</td>\n",
       "      <td>sale</td>\n",
       "      <td>houses</td>\n",
       "      <td>Casa En Venta En Tecamachalco</td>\n",
       "      <td>12800000</td>\n",
       "      <td>MXN</td>\n",
       "      <td>Estado De México</td>\n",
       "      <td>Naucalpan</td>\n",
       "      <td>Lomas De Tecamachalco</td>\n",
       "      <td>463.0</td>\n",
       "      <td>...</td>\n",
       "      <td>NaN</td>\n",
       "      <td>NaN</td>\n",
       "      <td>NaN</td>\n",
       "      <td>NaN</td>\n",
       "      <td>NaN</td>\n",
       "      <td>NaN</td>\n",
       "      <td>NaN</td>\n",
       "      <td>NaN</td>\n",
       "      <td>NaN</td>\n",
       "      <td>NaN</td>\n",
       "    </tr>\n",
       "  </tbody>\n",
       "</table>\n",
       "<p>5 rows × 26 columns</p>\n",
       "</div>"
      ],
      "text/plain": [
       "                                                 url type_of_offer  \\\n",
       "0  https://casa.metroscubicos.com/MLM-959176385-v...          sale   \n",
       "1  https://casa.metroscubicos.com/MLM-960867980-e...          sale   \n",
       "2  https://casa.metroscubicos.com/MLM-959186781-r...          sale   \n",
       "3  https://casa.metroscubicos.com/MLM-958325468-v...          sale   \n",
       "4  https://casa.metroscubicos.com/MLM-941274503-c...          sale   \n",
       "\n",
       "  type_of_prop                                              name     price  \\\n",
       "0       houses      Venta Casa Ezequiel Chávez, Ciudad Satélite.  10800000   \n",
       "1       houses  Espectacular Residencia En Lomas De Tecamachalco  19900000   \n",
       "2       houses               Residencia En Venta Vista Del Valle  14500000   \n",
       "3       houses                         Venta Casa Paseo Satelite   8900000   \n",
       "4       houses                     Casa En Venta En Tecamachalco  12800000   \n",
       "\n",
       "  currency            Estado     Ciudad                           Colonia  \\\n",
       "0      MXN  Estado De México  Naucalpan                   Ciudad Satélite   \n",
       "1      MXN  Estado De México  Naucalpan             Lomas De Tecamachalco   \n",
       "2      MXN  Estado De México  Naucalpan  Vista Del Valle II, III, IV y IX   \n",
       "3      MXN  Estado De México  Naucalpan              Santa Cruz Del Monte   \n",
       "4      MXN  Estado De México  Naucalpan             Lomas De Tecamachalco   \n",
       "\n",
       "   Superficie total  ...  Cantidad de pisos  Cuota mensual de mantenimiento  \\\n",
       "0             525.0  ...                NaN                             NaN   \n",
       "1             282.0  ...                NaN                             NaN   \n",
       "2             750.0  ...                NaN                             NaN   \n",
       "3             196.0  ...                NaN                             NaN   \n",
       "4             463.0  ...                NaN                             NaN   \n",
       "\n",
       "   Bodegas  Orientación  Tipo de casa  Tipo de propiedad  \\\n",
       "0      NaN          NaN           NaN                NaN   \n",
       "1      NaN          NaN           NaN                NaN   \n",
       "2      NaN          NaN           NaN                NaN   \n",
       "3      NaN          NaN           NaN                NaN   \n",
       "4      NaN          NaN           NaN                NaN   \n",
       "\n",
       "   Departamentos por piso  Número de piso de la unidad  Disposición  \\\n",
       "0                     NaN                          NaN          NaN   \n",
       "1                     NaN                          NaN          NaN   \n",
       "2                     NaN                          NaN          NaN   \n",
       "3                     NaN                          NaN          NaN   \n",
       "4                     NaN                          NaN          NaN   \n",
       "\n",
       "  Tipo de departamento  \n",
       "0                  NaN  \n",
       "1                  NaN  \n",
       "2                  NaN  \n",
       "3                  NaN  \n",
       "4                  NaN  \n",
       "\n",
       "[5 rows x 26 columns]"
      ]
     },
     "execution_count": 91,
     "metadata": {},
     "output_type": "execute_result"
    }
   ],
   "source": [
    "df_complete = df_complete[df_complete['currency']==\"MXN\"]\n",
    "df_complete.head()"
   ]
  },
  {
   "cell_type": "markdown",
   "id": "3d577001",
   "metadata": {},
   "source": [
    "## Split data Train and Test"
   ]
  },
  {
   "cell_type": "code",
   "execution_count": 180,
   "id": "68671928",
   "metadata": {},
   "outputs": [],
   "source": [
    "from sklearn.model_selection import train_test_split\n",
    "\n",
    "# Read data\n",
    "X_full = df_complete\n",
    "# X_test_full = pd.read_csv(\"\")\n",
    "\n",
    "# Obtain Target and Predictions\n",
    "y = X_full.price\n",
    "\n",
    "features = ['type_of_prop',\n",
    "       'Estado', 'Ciudad', 'Colonia', 'Superficie total','Ambientes', 'Recamaras', 'Banos',\n",
    "       'Estacionamientos', 'Antiguedad', 'Cantidad de pisos',\n",
    "       'Cuota mensual de mantenimiento', 'Bodegas']\n",
    "\n",
    "X = X_full[features]\n",
    "# X_test = X_test_full[features]\n",
    "\n",
    "# Break off validation set from training data\n",
    "X_train, X_valid, y_train, y_valid = train_test_split(X, y, train_size=0.8, test_size=0.2, random_state=0)\n"
   ]
  },
  {
   "cell_type": "code",
   "execution_count": 93,
   "id": "e8a5673b",
   "metadata": {},
   "outputs": [],
   "source": [
    "from sklearn.ensemble import RandomForestRegressor\n",
    "\n",
    "# Define the models\n",
    "model_1 = RandomForestRegressor(n_estimators=50, random_state=0)\n",
    "model_2 = RandomForestRegressor(n_estimators=100, random_state=0)\n",
    "model_3 = RandomForestRegressor(n_estimators=100, criterion='mae', random_state=0)\n",
    "model_4 = RandomForestRegressor(n_estimators=200, min_samples_split=20, random_state=0)\n",
    "model_5 = RandomForestRegressor(n_estimators=100, max_depth=7, random_state=0)\n",
    "\n",
    "models = [model_1, model_2, model_3, model_4, model_5]"
   ]
  },
  {
   "cell_type": "markdown",
   "id": "53c7aa14",
   "metadata": {},
   "source": [
    "## 1) Cleaning\n",
    "\n",
    "We require the transformation of Categorical Variables to feed the model, we will use One Hot Encoder because the variables we need to transform do not have an ordinal rank, and we don´t need to identify a hierarchy level between houses and apartments, for example. "
   ]
  },
  {
   "cell_type": "markdown",
   "id": "f3866098",
   "metadata": {},
   "source": [
    "### Categorical Variables"
   ]
  },
  {
   "cell_type": "code",
   "execution_count": 94,
   "id": "b7c3de30",
   "metadata": {},
   "outputs": [
    {
     "name": "stdout",
     "output_type": "stream",
     "text": [
      "Categorical variables:\n",
      "['type_of_prop', 'Estado', 'Ciudad', 'Colonia']\n"
     ]
    }
   ],
   "source": [
    "# Get list of categorical variables\n",
    "s = (X_train.dtypes == 'object')\n",
    "object_cols = list(s[s].index)\n",
    "\n",
    "print(\"Categorical variables:\")\n",
    "print(object_cols)"
   ]
  },
  {
   "cell_type": "markdown",
   "id": "3069f4a2",
   "metadata": {},
   "source": [
    "### One Hot Encoding"
   ]
  },
  {
   "cell_type": "code",
   "execution_count": 95,
   "id": "75320e68",
   "metadata": {},
   "outputs": [],
   "source": [
    "from sklearn.preprocessing import OneHotEncoder\n",
    "\n",
    "s = (X_train.dtypes == 'object')\n",
    "object_cols = list(s[s].index)\n",
    "\n",
    "# Apply one-hot encoder to each column with categorical data\n",
    "OH_encoder = OneHotEncoder(handle_unknown='ignore', sparse=False)\n",
    "OH_cols_train = pd.DataFrame(OH_encoder.fit_transform(X_train[object_cols]))\n",
    "OH_cols_valid = pd.DataFrame(OH_encoder.transform(X_valid[object_cols]))\n",
    "\n",
    "# One-hot encoding removed index; put it back\n",
    "OH_cols_train.index = X_train.index\n",
    "OH_cols_valid.index = X_valid.index\n",
    "\n",
    "# Remove categorical columns (will replace with one-hot encoding)\n",
    "num_X_train = X_train.drop(object_cols, axis=1)\n",
    "num_X_valid = X_valid.drop(object_cols, axis=1)\n",
    "\n",
    "# Add one-hot encoded columns to numerical features\n",
    "OH_X_train = pd.concat([num_X_train, OH_cols_train], axis=1)\n",
    "OH_X_valid = pd.concat([num_X_valid, OH_cols_valid], axis=1)\n"
   ]
  },
  {
   "cell_type": "markdown",
   "id": "3dabd437",
   "metadata": {},
   "source": [
    "### Goodbye NAs "
   ]
  },
  {
   "cell_type": "code",
   "execution_count": 96,
   "id": "519f6bac",
   "metadata": {},
   "outputs": [
    {
     "name": "stdout",
     "output_type": "stream",
     "text": [
      "No more NAs, now just 0s :D\n"
     ]
    }
   ],
   "source": [
    "OH_X_train=OH_X_train.fillna(0)\n",
    "OH_X_valid=OH_X_valid.fillna(0)\n",
    "\n",
    "print(\"No more NAs, now just 0s :D\")"
   ]
  },
  {
   "cell_type": "code",
   "execution_count": 97,
   "id": "7614fed0",
   "metadata": {},
   "outputs": [
    {
     "name": "stdout",
     "output_type": "stream",
     "text": [
      "Model 1 MAE: 1331317\n",
      "Model 2 MAE: 1315987\n",
      "Model 3 MAE: 1277496\n",
      "Model 4 MAE: 1417299\n",
      "Model 5 MAE: 1348177\n"
     ]
    }
   ],
   "source": [
    "from sklearn.metrics import mean_absolute_error\n",
    "\n",
    "# Function for comparing different models\n",
    "def score_model(model, X_t=OH_X_train, X_v=OH_X_valid, y_t=y_train, y_v=y_valid):\n",
    "    model.fit(X_t, y_t)\n",
    "    preds = model.predict(X_v)\n",
    "    return mean_absolute_error(y_v, preds)\n",
    "\n",
    "for i in range(0, len(models)):\n",
    "    mae = score_model(models[i])\n",
    "    print(\"Model %d MAE: %d\" % (i+1, mae))"
   ]
  },
  {
   "cell_type": "markdown",
   "id": "9dba9f2a",
   "metadata": {},
   "source": [
    "## 2) Cross Validation\n",
    "\n",
    "Cross Validation is used to improve the score measures of our model by running the same process on different subsets of data to get multiple scores, or in other workds, desing different scenarios in order to use the 100% of the dataset as a test or validation data. This method should be used if we have a relative small data set."
   ]
  },
  {
   "cell_type": "code",
   "execution_count": 98,
   "id": "8750ef31",
   "metadata": {},
   "outputs": [],
   "source": [
    "# Creating a Pipeline\n",
    "\n",
    "from sklearn.pipeline import Pipeline\n",
    "from sklearn.impute import SimpleImputer\n",
    "\n",
    "my_pipeline = Pipeline(steps=[('model', RandomForestRegressor(n_estimators=50,\n",
    "                                                              random_state=0))\n",
    "                             ])"
   ]
  },
  {
   "cell_type": "code",
   "execution_count": 101,
   "id": "ddabba4d",
   "metadata": {},
   "outputs": [
    {
     "name": "stdout",
     "output_type": "stream",
     "text": [
      "Model 1 Avg Cross Score: 1628782\n",
      "Model 2 Avg Cross Score: 1639069\n",
      "Model 3 Avg Cross Score: 1640996\n",
      "Model 4 Avg Cross Score: 1611346\n",
      "Model 5 Avg Cross Score: 1644486\n"
     ]
    }
   ],
   "source": [
    "from sklearn.model_selection import cross_val_score\n",
    "X=X.fillna(0)\n",
    "\n",
    "# Get list of categorical variables\n",
    "s = (X.dtypes == 'object')\n",
    "object_cols = list(s[s].index)\n",
    "\n",
    "# Encoding Categorical Variables with OneHotEncoder\n",
    "from sklearn.preprocessing import OneHotEncoder\n",
    "\n",
    "# Apply one-hot encoder to each column with categorical data\n",
    "OH_X_pandas = pd.get_dummies(X)\n",
    "\n",
    "# OH_encoder = OneHotEncoder(handle_unknown='ignore', sparse=False)\n",
    "# OH_cols = pd.DataFrame(OH_encoder.fit_transform(X[object_cols]))\n",
    "# One-hot encoding removed index; put it back\n",
    "# OH_cols.index = X.index\n",
    "# Remove categorical columns (will replace with one-hot encoding)\n",
    "# num_X = X.drop(object_cols, axis=1)\n",
    "# Add one-hot encoded columns to numerical features\n",
    "# OH_X = pd.concat([num_X, OH_cols], axis=1)\n",
    "\n",
    "# Verify if NA cleaning can be inside the pipeline\n",
    "# OH_X=OH_X.fillna(0)\n",
    "\n",
    "def crossed_score_model(model, X, y):\n",
    "    \n",
    "    my_pipeline = Pipeline(steps=[('model', model)])\n",
    "    \n",
    "    # Multiply by -1 since sklearn calculates *negative* MAE\n",
    "    scores = -1 * cross_val_score(my_pipeline, X, y, cv=5, scoring='neg_mean_absolute_error')\n",
    "#     print(\"MAE scores:\\n\", scores)\n",
    "#     print(scores.mean())\n",
    "    return scores.mean()\n",
    "\n",
    "for i in range(0,len(models)):\n",
    "    cross_score=crossed_score_model(models[i],OH_X_pandas, y)\n",
    "    print(\"Model %d Avg Cross Score: %d\" % (i+1, cross_score))\n",
    "    "
   ]
  },
  {
   "cell_type": "markdown",
   "id": "be6f0542",
   "metadata": {},
   "source": [
    "## 3) XG Boost\n",
    "\n",
    "Gradient boosting is a method that goes through cycles to iteratively add models into an ensemble.\n",
    "\n",
    "It begins by initializing the ensemble with a single model, whose predictions can be pretty naive. (Even if its predictions are wildly inaccurate, subsequent additions to the ensemble will address those errors.)"
   ]
  },
  {
   "cell_type": "code",
   "execution_count": 102,
   "id": "480d3487",
   "metadata": {},
   "outputs": [
    {
     "name": "stdout",
     "output_type": "stream",
     "text": [
      "1473643.119047619\n"
     ]
    }
   ],
   "source": [
    "from xgboost import XGBRegressor\n",
    "X_valid \n",
    "\n",
    "xg_model = XGBRegressor()\n",
    "xg_model.fit(OH_X_train, y_train)\n",
    "\n",
    "from sklearn.metrics import mean_absolute_error\n",
    "\n",
    "# Get predictions\n",
    "predictions = xg_model.predict(OH_X_valid) \n",
    "mae = mean_absolute_error(predictions, y_valid) \n",
    "\n",
    "print(mae)"
   ]
  },
  {
   "cell_type": "code",
   "execution_count": 103,
   "id": "eae2897c",
   "metadata": {},
   "outputs": [
    {
     "name": "stdout",
     "output_type": "stream",
     "text": [
      "MAE still very high :(\n"
     ]
    }
   ],
   "source": [
    "print(\"MAE still very high :(\")"
   ]
  },
  {
   "cell_type": "code",
   "execution_count": null,
   "id": "46d7b799",
   "metadata": {},
   "outputs": [],
   "source": []
  },
  {
   "cell_type": "markdown",
   "id": "06df456f",
   "metadata": {},
   "source": [
    "## Cleaning national data"
   ]
  },
  {
   "cell_type": "code",
   "execution_count": 188,
   "id": "c9cbc25a",
   "metadata": {},
   "outputs": [
    {
     "data": {
      "text/plain": [
       "<AxesSubplot:>"
      ]
     },
     "execution_count": 188,
     "metadata": {},
     "output_type": "execute_result"
    },
    {
     "data": {
      "image/png": "[encoded data removed]",
      "text/plain": [
       "<Figure size 432x288 with 1 Axes>"
      ]
     },
     "metadata": {
      "needs_background": "light"
     },
     "output_type": "display_data"
    }
   ],
   "source": [
    "national_data['Superficie total'].plot.box(grid=True)"
   ]
  },
  {
   "cell_type": "code",
   "execution_count": 212,
   "id": "567a0c1e",
   "metadata": {},
   "outputs": [
    {
     "data": {
      "text/plain": [
       "<AxesSubplot:>"
      ]
     },
     "execution_count": 212,
     "metadata": {},
     "output_type": "execute_result"
    },
    {
     "data": {
      "image/png": "[encoded data removed]",
      "text/plain": [
       "<Figure size 432x288 with 1 Axes>"
      ]
     },
     "metadata": {
      "needs_background": "light"
     },
     "output_type": "display_data"
    }
   ],
   "source": [
    "national_data = pd.read_json('../Scraping/Output/full_data.json')\n",
    "national_data = national_data[national_data['currency']=='MXN']\n",
    "national_data = national_data[national_data['name'].str.contains('Renta')==False]\n",
    "national_data_cp = national_data[national_data['cp'].isnull()==False]\n",
    "\n",
    "national_data = national_data[national_data['price']>1000000]\n",
    "national_data = national_data[national_data['price']<10000000]\n",
    "national_data = national_data[national_data['Estado']=='Puebla']\n",
    "# national_data = national_data[national_data['Superficie total']<300]\n",
    "\n",
    "national_data['price'].plot.box(grid='True')"
   ]
  },
  {
   "cell_type": "code",
   "execution_count": 213,
   "id": "c6e47e66",
   "metadata": {},
   "outputs": [
    {
     "data": {
      "text/plain": [
       "Index(['index', 'url', 'type_of_offer', 'type_of_prop', 'name', 'price',\n",
       "       'currency', 'Estado', 'Ciudad', 'Colonia', 'Superficie total',\n",
       "       'Superficie construida', 'Recamaras', 'Banos', 'Estacionamientos',\n",
       "       'Antiguedad', 'Cuota mensual de mantenimiento', 'Ambientes', 'Bodegas',\n",
       "       'Cantidad de pisos', 'site', 'Orientación', 'Departamentos por piso',\n",
       "       'Tipo de departamento', 'Número de piso de la unidad', 'Disposición',\n",
       "       'Tipo de casa', 'Tipo de propiedad', 'cp'],\n",
       "      dtype='object')"
      ]
     },
     "execution_count": 213,
     "metadata": {},
     "output_type": "execute_result"
    }
   ],
   "source": [
    "national_data.columns"
   ]
  },
  {
   "cell_type": "code",
   "execution_count": 218,
   "id": "0765463b",
   "metadata": {},
   "outputs": [],
   "source": [
    "from sklearn.model_selection import train_test_split\n",
    "\n",
    "# Read data\n",
    "X_full = national_data_cp\n",
    "# X_test_full = pd.read_csv(\"\")\n",
    "\n",
    "# Obtain Target and Predictions\n",
    "y = X_full.price\n",
    "\n",
    "features = ['type_of_prop',\n",
    "       'Estado', 'Ciudad', 'Colonia', 'Superficie total',\n",
    "       'Superficie construida', 'Ambientes', 'Recamaras', 'Banos',\n",
    "       'Estacionamientos', 'Antiguedad', 'Cantidad de pisos',\n",
    "       'Cuota mensual de mantenimiento', 'Bodegas']\n",
    "\n",
    "X = X_full[features]\n",
    "\n",
    "# Break off validation set from training data\n",
    "X_train, X_valid, y_train, y_valid = train_test_split(X, y, train_size=0.8, test_size=0.2, random_state=0)\n"
   ]
  },
  {
   "cell_type": "code",
   "execution_count": 219,
   "id": "f2f7f62c",
   "metadata": {},
   "outputs": [],
   "source": [
    "from sklearn.preprocessing import OneHotEncoder\n",
    "\n",
    "s = (X_train.dtypes == 'object')\n",
    "object_cols = list(s[s].index)\n",
    "\n",
    "# Apply one-hot encoder to each column with categorical data\n",
    "OH_encoder = OneHotEncoder(handle_unknown='ignore', sparse=False)\n",
    "OH_cols_train = pd.DataFrame(OH_encoder.fit_transform(X_train[object_cols]))\n",
    "OH_cols_valid = pd.DataFrame(OH_encoder.transform(X_valid[object_cols]))\n",
    "\n",
    "# One-hot encoding removed index; put it back\n",
    "OH_cols_train.index = X_train.index\n",
    "OH_cols_valid.index = X_valid.index\n",
    "\n",
    "# Remove categorical columns (will replace with one-hot encoding)\n",
    "num_X_train = X_train.drop(object_cols, axis=1)\n",
    "num_X_valid = X_valid.drop(object_cols, axis=1)\n",
    "\n",
    "# Add one-hot encoded columns to numerical features\n",
    "OH_X_train = pd.concat([num_X_train, OH_cols_train], axis=1)\n",
    "OH_X_valid = pd.concat([num_X_valid, OH_cols_valid], axis=1)\n",
    "\n",
    "OH_X_train=OH_X_train.fillna(0)\n",
    "OH_X_valid=OH_X_valid.fillna(0)"
   ]
  },
  {
   "cell_type": "code",
   "execution_count": null,
   "id": "d0d58d3c",
   "metadata": {},
   "outputs": [],
   "source": [
    "X_train"
   ]
  },
  {
   "cell_type": "code",
   "execution_count": null,
   "id": "dbdd816b",
   "metadata": {},
   "outputs": [
    {
     "name": "stdout",
     "output_type": "stream",
     "text": [
      "Model 1 MAE: 1442959\n",
      "Model 2 MAE: 1447662\n"
     ]
    }
   ],
   "source": [
    "from sklearn.metrics import mean_absolute_error\n",
    "\n",
    "# Function for comparing different models\n",
    "def score_model(model, X_t=OH_X_train, X_v=OH_X_valid, y_t=y_train, y_v=y_valid):\n",
    "    model.fit(X_t, y_t)\n",
    "    preds = model.predict(X_v)\n",
    "    return mean_absolute_error(y_v, preds)\n",
    "\n",
    "for i in range(0, len(models)):\n",
    "    try:\n",
    "        mae = score_model(models[i])\n",
    "        print(\"Model %d MAE: %d\" % (i+1, mae))\n",
    "    \n",
    "    except Exception as e:\n",
    "        print(e)"
   ]
  },
  {
   "cell_type": "code",
   "execution_count": null,
   "id": "4710ec2c",
   "metadata": {},
   "outputs": [],
   "source": []
  },
  {
   "cell_type": "code",
   "execution_count": null,
   "id": "b0cab4b8",
   "metadata": {},
   "outputs": [],
   "source": []
  },
  {
   "cell_type": "code",
   "execution_count": null,
   "id": "98d178e8",
   "metadata": {},
   "outputs": [],
   "source": []
  },
  {
   "cell_type": "code",
   "execution_count": null,
   "id": "a0206fb4",
   "metadata": {},
   "outputs": [],
   "source": []
  },
  {
   "cell_type": "code",
   "execution_count": null,
   "id": "85676438",
   "metadata": {},
   "outputs": [],
   "source": []
  },
  {
   "cell_type": "code",
   "execution_count": null,
   "id": "a1e86d0f",
   "metadata": {},
   "outputs": [],
   "source": []
  },
  {
   "cell_type": "markdown",
   "id": "d285df66",
   "metadata": {},
   "source": [
    "## KNearest Neighbor Model"
   ]
  },
  {
   "cell_type": "code",
   "execution_count": 112,
   "id": "b2e5fa10",
   "metadata": {},
   "outputs": [],
   "source": [
    "# OH_X_train"
   ]
  },
  {
   "cell_type": "code",
   "execution_count": 113,
   "id": "e79a38d9",
   "metadata": {
    "scrolled": true
   },
   "outputs": [
    {
     "name": "stdout",
     "output_type": "stream",
     "text": [
      "k: 1, Train/Test Score: 0.968/0.075\n",
      "k: 3, Train/Test Score: 0.399/0.038\n",
      "k: 5, Train/Test Score: 0.251/0.033\n",
      "k: 7, Train/Test Score: 0.196/0.029\n",
      "k: 9, Train/Test Score: 0.164/0.033\n",
      "k: 11, Train/Test Score: 0.138/0.033\n",
      "k: 13, Train/Test Score: 0.125/0.029\n",
      "k: 15, Train/Test Score: 0.111/0.027\n",
      "k: 17, Train/Test Score: 0.110/0.023\n",
      "k: 19, Train/Test Score: 0.104/0.025\n"
     ]
    },
    {
     "data": {
      "image/png": "[encoded data removed]",
      "text/plain": [
       "<Figure size 432x288 with 1 Axes>"
      ]
     },
     "metadata": {
      "needs_background": "light"
     },
     "output_type": "display_data"
    }
   ],
   "source": [
    "from sklearn.neighbors import KNeighborsClassifier\n",
    "import matplotlib.pyplot as plt\n",
    "\n",
    "# Loop through different k values to see which has the highest accuracy\n",
    "# Note: We only use odd numbers because we don't want any ties\n",
    "\n",
    "train_scores = []\n",
    "test_scores = []\n",
    "\n",
    "for k in range(1, 20, 2):\n",
    "    knn = KNeighborsClassifier(n_neighbors=k)\n",
    "    knn.fit(OH_X_train, y_train)\n",
    "    train_score = knn.score(OH_X_train, y_train)\n",
    "    test_score = knn.score(OH_X_valid, y_valid)\n",
    "    train_scores.append(train_score)\n",
    "    test_scores.append(test_score)\n",
    "    print(f\"k: {k}, Train/Test Score: {train_score:.3f}/{test_score:.3f}\")\n",
    "    \n",
    "    \n",
    "plt.plot(range(1, 20, 2), train_scores, marker='o')\n",
    "plt.plot(range(1, 20, 2), test_scores, marker=\"x\")\n",
    "plt.xlabel(\"k neighbors\")\n",
    "plt.ylabel(\"Testing accuracy Score\")\n",
    "plt.show()"
   ]
  },
  {
   "cell_type": "code",
   "execution_count": 114,
   "id": "57f29521",
   "metadata": {},
   "outputs": [
    {
     "name": "stdout",
     "output_type": "stream",
     "text": [
      "k=5 Test Acc: 0.033\n"
     ]
    }
   ],
   "source": [
    "# Note that k: 9 provides the best accuracy where the classifier starts to stablize\n",
    "knn = KNeighborsClassifier(n_neighbors=5)\n",
    "knn.fit(OH_X_train, y_train)\n",
    "print('k=5 Test Acc: %.3f' % knn.score(OH_X_valid, y_test))"
   ]
  },
  {
   "cell_type": "code",
   "execution_count": 115,
   "id": "27b4fa61",
   "metadata": {},
   "outputs": [],
   "source": [
    "predictions = knn.predict(OH_X_valid)"
   ]
  },
  {
   "cell_type": "code",
   "execution_count": 116,
   "id": "d09eeeb3",
   "metadata": {},
   "outputs": [
    {
     "data": {
      "text/plain": [
       "1554780.8049713194"
      ]
     },
     "execution_count": 116,
     "metadata": {},
     "output_type": "execute_result"
    }
   ],
   "source": [
    "mean_absolute_error(predictions,y_valid)"
   ]
  },
  {
   "cell_type": "code",
   "execution_count": 118,
   "id": "f666cd9f",
   "metadata": {},
   "outputs": [
    {
     "data": {
      "text/plain": [
       "count    6.758000e+03\n",
       "mean     4.941058e+06\n",
       "std      5.371521e+07\n",
       "min      1.000000e+00\n",
       "25%      1.242750e+06\n",
       "50%      2.400000e+06\n",
       "75%      4.596599e+06\n",
       "max      4.382460e+09\n",
       "Name: price, dtype: float64"
      ]
     },
     "execution_count": 118,
     "metadata": {},
     "output_type": "execute_result"
    }
   ],
   "source": [
    "national_data.price.describe()"
   ]
  },
  {
   "cell_type": "code",
   "execution_count": null,
   "id": "b90c1949",
   "metadata": {},
   "outputs": [],
   "source": []
  },
  {
   "cell_type": "code",
   "execution_count": 146,
   "id": "188661e2",
   "metadata": {},
   "outputs": [
    {
     "data": {
      "text/html": [
       "<div>\n",
       "<style scoped>\n",
       "    .dataframe tbody tr th:only-of-type {\n",
       "        vertical-align: middle;\n",
       "    }\n",
       "\n",
       "    .dataframe tbody tr th {\n",
       "        vertical-align: top;\n",
       "    }\n",
       "\n",
       "    .dataframe thead th {\n",
       "        text-align: right;\n",
       "    }\n",
       "</style>\n",
       "<table border=\"1\" class=\"dataframe\">\n",
       "  <thead>\n",
       "    <tr style=\"text-align: right;\">\n",
       "      <th></th>\n",
       "      <th>index</th>\n",
       "      <th>url</th>\n",
       "      <th>type_of_offer</th>\n",
       "      <th>type_of_prop</th>\n",
       "      <th>name</th>\n",
       "      <th>price</th>\n",
       "      <th>currency</th>\n",
       "      <th>Estado</th>\n",
       "      <th>Ciudad</th>\n",
       "      <th>Colonia</th>\n",
       "      <th>Superficie total</th>\n",
       "      <th>Superficie construida</th>\n",
       "      <th>Recamaras</th>\n",
       "      <th>Banos</th>\n",
       "      <th>Estacionamientos</th>\n",
       "      <th>Antiguedad</th>\n",
       "      <th>Cuota mensual de mantenimiento</th>\n",
       "      <th>Ambientes</th>\n",
       "      <th>Bodegas</th>\n",
       "      <th>Cantidad de pisos</th>\n",
       "      <th>site</th>\n",
       "      <th>Orientación</th>\n",
       "      <th>Departamentos por piso</th>\n",
       "      <th>Tipo de departamento</th>\n",
       "      <th>Número de piso de la unidad</th>\n",
       "      <th>Disposición</th>\n",
       "      <th>Tipo de casa</th>\n",
       "      <th>Tipo de propiedad</th>\n",
       "      <th>cp</th>\n",
       "    </tr>\n",
       "  </thead>\n",
       "  <tbody>\n",
       "    <tr>\n",
       "      <th>176</th>\n",
       "      <td>32</td>\n",
       "      <td>https://casa.metroscubicos.com/MLM-886476606-m...</td>\n",
       "      <td>sale</td>\n",
       "      <td>houses</td>\n",
       "      <td>Mansión De Lujo En Venta Los Cabos Mexico</td>\n",
       "      <td>122000000</td>\n",
       "      <td>MXN</td>\n",
       "      <td>Baja California Sur</td>\n",
       "      <td>Los Cabos</td>\n",
       "      <td>El Pedregal</td>\n",
       "      <td>2546.0</td>\n",
       "      <td>1644.0</td>\n",
       "      <td>8.0</td>\n",
       "      <td>11.0</td>\n",
       "      <td>NaN</td>\n",
       "      <td>13.0</td>\n",
       "      <td>NaN</td>\n",
       "      <td>19.0</td>\n",
       "      <td>NaN</td>\n",
       "      <td>NaN</td>\n",
       "      <td>Data\\BajaSur_hs.json</td>\n",
       "      <td>None</td>\n",
       "      <td>NaN</td>\n",
       "      <td>None</td>\n",
       "      <td>NaN</td>\n",
       "      <td>None</td>\n",
       "      <td>None</td>\n",
       "      <td>None</td>\n",
       "      <td>23453.0</td>\n",
       "    </tr>\n",
       "    <tr>\n",
       "      <th>177</th>\n",
       "      <td>33</td>\n",
       "      <td>https://casa.metroscubicos.com/MLM-886476588-r...</td>\n",
       "      <td>sale</td>\n",
       "      <td>houses</td>\n",
       "      <td>Residencia De Lujo San José Del Cabo, California</td>\n",
       "      <td>170325000</td>\n",
       "      <td>MXN</td>\n",
       "      <td>Baja California Sur</td>\n",
       "      <td>Los Cabos</td>\n",
       "      <td>Palmilla</td>\n",
       "      <td>6090.0</td>\n",
       "      <td>2558.0</td>\n",
       "      <td>6.0</td>\n",
       "      <td>7.0</td>\n",
       "      <td>10.0</td>\n",
       "      <td>0.0</td>\n",
       "      <td>NaN</td>\n",
       "      <td>14.0</td>\n",
       "      <td>NaN</td>\n",
       "      <td>NaN</td>\n",
       "      <td>Data\\BajaSur_hs.json</td>\n",
       "      <td>None</td>\n",
       "      <td>NaN</td>\n",
       "      <td>None</td>\n",
       "      <td>NaN</td>\n",
       "      <td>None</td>\n",
       "      <td>None</td>\n",
       "      <td>None</td>\n",
       "      <td>23537.0</td>\n",
       "    </tr>\n",
       "    <tr>\n",
       "      <th>3971</th>\n",
       "      <td>11</td>\n",
       "      <td>https://departamento.metroscubicos.com/MLM-961...</td>\n",
       "      <td>sale</td>\n",
       "      <td>apartments</td>\n",
       "      <td>Departamento En Preventa  Basania Torre Reside...</td>\n",
       "      <td>4382460000</td>\n",
       "      <td>MXN</td>\n",
       "      <td>Guanajuato</td>\n",
       "      <td>León</td>\n",
       "      <td>Villas Del Juncal</td>\n",
       "      <td>112.0</td>\n",
       "      <td>112.0</td>\n",
       "      <td>2.0</td>\n",
       "      <td>2.0</td>\n",
       "      <td>NaN</td>\n",
       "      <td>NaN</td>\n",
       "      <td>NaN</td>\n",
       "      <td>NaN</td>\n",
       "      <td>NaN</td>\n",
       "      <td>1.0</td>\n",
       "      <td>Data\\Guanajuato_ap.json</td>\n",
       "      <td>None</td>\n",
       "      <td>NaN</td>\n",
       "      <td>None</td>\n",
       "      <td>NaN</td>\n",
       "      <td>None</td>\n",
       "      <td>None</td>\n",
       "      <td>None</td>\n",
       "      <td>37180.0</td>\n",
       "    </tr>\n",
       "    <tr>\n",
       "      <th>4503</th>\n",
       "      <td>11</td>\n",
       "      <td>https://casa.metroscubicos.com/MLM-952148666-c...</td>\n",
       "      <td>sale</td>\n",
       "      <td>houses</td>\n",
       "      <td>Cad Villa Universal. 200 M De Playa. Alberca, ...</td>\n",
       "      <td>120000000</td>\n",
       "      <td>MXN</td>\n",
       "      <td>Guerrero</td>\n",
       "      <td>Acapulco</td>\n",
       "      <td>Club de golf 3 Vidas</td>\n",
       "      <td>5000.0</td>\n",
       "      <td>1200.0</td>\n",
       "      <td>8.0</td>\n",
       "      <td>8.0</td>\n",
       "      <td>4.0</td>\n",
       "      <td>NaN</td>\n",
       "      <td>NaN</td>\n",
       "      <td>NaN</td>\n",
       "      <td>NaN</td>\n",
       "      <td>NaN</td>\n",
       "      <td>Data\\Guerrero_hs.json</td>\n",
       "      <td>None</td>\n",
       "      <td>NaN</td>\n",
       "      <td>None</td>\n",
       "      <td>NaN</td>\n",
       "      <td>None</td>\n",
       "      <td>None</td>\n",
       "      <td>None</td>\n",
       "      <td>NaN</td>\n",
       "    </tr>\n",
       "  </tbody>\n",
       "</table>\n",
       "</div>"
      ],
      "text/plain": [
       "      index                                                url type_of_offer  \\\n",
       "176      32  https://casa.metroscubicos.com/MLM-886476606-m...          sale   \n",
       "177      33  https://casa.metroscubicos.com/MLM-886476588-r...          sale   \n",
       "3971     11  https://departamento.metroscubicos.com/MLM-961...          sale   \n",
       "4503     11  https://casa.metroscubicos.com/MLM-952148666-c...          sale   \n",
       "\n",
       "     type_of_prop                                               name  \\\n",
       "176        houses          Mansión De Lujo En Venta Los Cabos Mexico   \n",
       "177        houses   Residencia De Lujo San José Del Cabo, California   \n",
       "3971   apartments  Departamento En Preventa  Basania Torre Reside...   \n",
       "4503       houses  Cad Villa Universal. 200 M De Playa. Alberca, ...   \n",
       "\n",
       "           price currency               Estado     Ciudad  \\\n",
       "176    122000000      MXN  Baja California Sur  Los Cabos   \n",
       "177    170325000      MXN  Baja California Sur  Los Cabos   \n",
       "3971  4382460000      MXN           Guanajuato       León   \n",
       "4503   120000000      MXN             Guerrero   Acapulco   \n",
       "\n",
       "                   Colonia  Superficie total  Superficie construida  \\\n",
       "176            El Pedregal            2546.0                 1644.0   \n",
       "177               Palmilla            6090.0                 2558.0   \n",
       "3971     Villas Del Juncal             112.0                  112.0   \n",
       "4503  Club de golf 3 Vidas            5000.0                 1200.0   \n",
       "\n",
       "      Recamaras  Banos  Estacionamientos  Antiguedad  \\\n",
       "176         8.0   11.0               NaN        13.0   \n",
       "177         6.0    7.0              10.0         0.0   \n",
       "3971        2.0    2.0               NaN         NaN   \n",
       "4503        8.0    8.0               4.0         NaN   \n",
       "\n",
       "      Cuota mensual de mantenimiento  Ambientes  Bodegas  Cantidad de pisos  \\\n",
       "176                              NaN       19.0      NaN                NaN   \n",
       "177                              NaN       14.0      NaN                NaN   \n",
       "3971                             NaN        NaN      NaN                1.0   \n",
       "4503                             NaN        NaN      NaN                NaN   \n",
       "\n",
       "                         site Orientación  Departamentos por piso  \\\n",
       "176      Data\\BajaSur_hs.json        None                     NaN   \n",
       "177      Data\\BajaSur_hs.json        None                     NaN   \n",
       "3971  Data\\Guanajuato_ap.json        None                     NaN   \n",
       "4503    Data\\Guerrero_hs.json        None                     NaN   \n",
       "\n",
       "     Tipo de departamento  Número de piso de la unidad Disposición  \\\n",
       "176                  None                          NaN        None   \n",
       "177                  None                          NaN        None   \n",
       "3971                 None                          NaN        None   \n",
       "4503                 None                          NaN        None   \n",
       "\n",
       "     Tipo de casa Tipo de propiedad       cp  \n",
       "176          None              None  23453.0  \n",
       "177          None              None  23537.0  \n",
       "3971         None              None  37180.0  \n",
       "4503         None              None      NaN  "
      ]
     },
     "execution_count": 146,
     "metadata": {},
     "output_type": "execute_result"
    }
   ],
   "source": [
    "national_data[national_data['price']>100000000]"
   ]
  },
  {
   "cell_type": "code",
   "execution_count": 140,
   "id": "d70fd675",
   "metadata": {},
   "outputs": [
    {
     "data": {
      "text/plain": [
       "<AxesSubplot:>"
      ]
     },
     "execution_count": 140,
     "metadata": {},
     "output_type": "execute_result"
    },
    {
     "data": {
      "image/png": "[encoded data removed]",
      "text/plain": [
       "<Figure size 432x288 with 1 Axes>"
      ]
     },
     "metadata": {
      "needs_background": "light"
     },
     "output_type": "display_data"
    }
   ],
   "source": [
    "national_data.boxplot(column=['Recamaras'], return_type='axes')"
   ]
  },
  {
   "cell_type": "code",
   "execution_count": 142,
   "id": "dcc240cb",
   "metadata": {},
   "outputs": [],
   "source": [
    "pd.set_option('display.max_columns', None)"
   ]
  },
  {
   "cell_type": "code",
   "execution_count": 143,
   "id": "a6734333",
   "metadata": {},
   "outputs": [
    {
     "data": {
      "text/html": [
       "<div>\n",
       "<style scoped>\n",
       "    .dataframe tbody tr th:only-of-type {\n",
       "        vertical-align: middle;\n",
       "    }\n",
       "\n",
       "    .dataframe tbody tr th {\n",
       "        vertical-align: top;\n",
       "    }\n",
       "\n",
       "    .dataframe thead th {\n",
       "        text-align: right;\n",
       "    }\n",
       "</style>\n",
       "<table border=\"1\" class=\"dataframe\">\n",
       "  <thead>\n",
       "    <tr style=\"text-align: right;\">\n",
       "      <th></th>\n",
       "      <th>index</th>\n",
       "      <th>url</th>\n",
       "      <th>type_of_offer</th>\n",
       "      <th>type_of_prop</th>\n",
       "      <th>name</th>\n",
       "      <th>price</th>\n",
       "      <th>currency</th>\n",
       "      <th>Estado</th>\n",
       "      <th>Ciudad</th>\n",
       "      <th>Colonia</th>\n",
       "      <th>Superficie total</th>\n",
       "      <th>Superficie construida</th>\n",
       "      <th>Recamaras</th>\n",
       "      <th>Banos</th>\n",
       "      <th>Estacionamientos</th>\n",
       "      <th>Antiguedad</th>\n",
       "      <th>Cuota mensual de mantenimiento</th>\n",
       "      <th>Ambientes</th>\n",
       "      <th>Bodegas</th>\n",
       "      <th>Cantidad de pisos</th>\n",
       "      <th>site</th>\n",
       "      <th>Orientación</th>\n",
       "      <th>Departamentos por piso</th>\n",
       "      <th>Tipo de departamento</th>\n",
       "      <th>Número de piso de la unidad</th>\n",
       "      <th>Disposición</th>\n",
       "      <th>Tipo de casa</th>\n",
       "      <th>Tipo de propiedad</th>\n",
       "      <th>cp</th>\n",
       "    </tr>\n",
       "  </thead>\n",
       "  <tbody>\n",
       "    <tr>\n",
       "      <th>661</th>\n",
       "      <td>166</td>\n",
       "      <td>https://casa.metroscubicos.com/MLM-926981124-s...</td>\n",
       "      <td>sale</td>\n",
       "      <td>houses</td>\n",
       "      <td>Se Vende Hotel En Cd. Jimenez</td>\n",
       "      <td>24500000</td>\n",
       "      <td>MXN</td>\n",
       "      <td>Chihuahua</td>\n",
       "      <td>Jiménez</td>\n",
       "      <td>Ciudad Jiménez</td>\n",
       "      <td>17000.0</td>\n",
       "      <td>3997.0</td>\n",
       "      <td>42.0</td>\n",
       "      <td>50.0</td>\n",
       "      <td>100.0</td>\n",
       "      <td>40.0</td>\n",
       "      <td>NaN</td>\n",
       "      <td>NaN</td>\n",
       "      <td>NaN</td>\n",
       "      <td>NaN</td>\n",
       "      <td>Data\\Chi_houses.json</td>\n",
       "      <td>None</td>\n",
       "      <td>NaN</td>\n",
       "      <td>None</td>\n",
       "      <td>NaN</td>\n",
       "      <td>None</td>\n",
       "      <td>None</td>\n",
       "      <td>None</td>\n",
       "      <td>NaN</td>\n",
       "    </tr>\n",
       "    <tr>\n",
       "      <th>689</th>\n",
       "      <td>14</td>\n",
       "      <td>https://departamento.metroscubicos.com/MLM-959...</td>\n",
       "      <td>sale</td>\n",
       "      <td>apartments</td>\n",
       "      <td>Departamento En Venta Fracc Res San Jose</td>\n",
       "      <td>24500000</td>\n",
       "      <td>MXN</td>\n",
       "      <td>Coahuila</td>\n",
       "      <td>Saltillo</td>\n",
       "      <td>San Jose de Flores</td>\n",
       "      <td>NaN</td>\n",
       "      <td>1656.0</td>\n",
       "      <td>24.0</td>\n",
       "      <td>18.0</td>\n",
       "      <td>NaN</td>\n",
       "      <td>0.0</td>\n",
       "      <td>NaN</td>\n",
       "      <td>NaN</td>\n",
       "      <td>NaN</td>\n",
       "      <td>NaN</td>\n",
       "      <td>Data\\Coahuila_ap.json</td>\n",
       "      <td>None</td>\n",
       "      <td>NaN</td>\n",
       "      <td>None</td>\n",
       "      <td>NaN</td>\n",
       "      <td>None</td>\n",
       "      <td>None</td>\n",
       "      <td>None</td>\n",
       "      <td>NaN</td>\n",
       "    </tr>\n",
       "    <tr>\n",
       "      <th>4400</th>\n",
       "      <td>137</td>\n",
       "      <td>https://departamento.metroscubicos.com/MLM-793...</td>\n",
       "      <td>sale</td>\n",
       "      <td>apartments</td>\n",
       "      <td>Se Vende Predio Urbano Con Construcción</td>\n",
       "      <td>7717450</td>\n",
       "      <td>MXN</td>\n",
       "      <td>None</td>\n",
       "      <td>None</td>\n",
       "      <td>None</td>\n",
       "      <td>493.0</td>\n",
       "      <td>785.0</td>\n",
       "      <td>24.0</td>\n",
       "      <td>12.0</td>\n",
       "      <td>NaN</td>\n",
       "      <td>22.0</td>\n",
       "      <td>NaN</td>\n",
       "      <td>NaN</td>\n",
       "      <td>NaN</td>\n",
       "      <td>2.0</td>\n",
       "      <td>Data\\Guerrero_ap.json</td>\n",
       "      <td>None</td>\n",
       "      <td>NaN</td>\n",
       "      <td>None</td>\n",
       "      <td>NaN</td>\n",
       "      <td>None</td>\n",
       "      <td>None</td>\n",
       "      <td>None</td>\n",
       "      <td>NaN</td>\n",
       "    </tr>\n",
       "    <tr>\n",
       "      <th>4499</th>\n",
       "      <td>7</td>\n",
       "      <td>https://casa.metroscubicos.com/MLM-943475172-s...</td>\n",
       "      <td>sale</td>\n",
       "      <td>houses</td>\n",
       "      <td>Se Vende Casa Sola, Amplia Y Centrica</td>\n",
       "      <td>6500000</td>\n",
       "      <td>MXN</td>\n",
       "      <td>Guerrero</td>\n",
       "      <td>Acapulco</td>\n",
       "      <td>Las Playas</td>\n",
       "      <td>625.0</td>\n",
       "      <td>550.0</td>\n",
       "      <td>24.0</td>\n",
       "      <td>24.0</td>\n",
       "      <td>1.0</td>\n",
       "      <td>25.0</td>\n",
       "      <td>NaN</td>\n",
       "      <td>1.0</td>\n",
       "      <td>1.0</td>\n",
       "      <td>4.0</td>\n",
       "      <td>Data\\Guerrero_hs.json</td>\n",
       "      <td>Sur</td>\n",
       "      <td>NaN</td>\n",
       "      <td>None</td>\n",
       "      <td>NaN</td>\n",
       "      <td>None</td>\n",
       "      <td>None</td>\n",
       "      <td>None</td>\n",
       "      <td>NaN</td>\n",
       "    </tr>\n",
       "  </tbody>\n",
       "</table>\n",
       "</div>"
      ],
      "text/plain": [
       "      index                                                url type_of_offer  \\\n",
       "661     166  https://casa.metroscubicos.com/MLM-926981124-s...          sale   \n",
       "689      14  https://departamento.metroscubicos.com/MLM-959...          sale   \n",
       "4400    137  https://departamento.metroscubicos.com/MLM-793...          sale   \n",
       "4499      7  https://casa.metroscubicos.com/MLM-943475172-s...          sale   \n",
       "\n",
       "     type_of_prop                                      name     price  \\\n",
       "661        houses             Se Vende Hotel En Cd. Jimenez  24500000   \n",
       "689    apartments  Departamento En Venta Fracc Res San Jose  24500000   \n",
       "4400   apartments   Se Vende Predio Urbano Con Construcción   7717450   \n",
       "4499       houses     Se Vende Casa Sola, Amplia Y Centrica   6500000   \n",
       "\n",
       "     currency     Estado    Ciudad             Colonia  Superficie total  \\\n",
       "661       MXN  Chihuahua   Jiménez      Ciudad Jiménez           17000.0   \n",
       "689       MXN   Coahuila  Saltillo  San Jose de Flores               NaN   \n",
       "4400      MXN       None      None                None             493.0   \n",
       "4499      MXN   Guerrero  Acapulco          Las Playas             625.0   \n",
       "\n",
       "      Superficie construida  Recamaras  Banos  Estacionamientos  Antiguedad  \\\n",
       "661                  3997.0       42.0   50.0             100.0        40.0   \n",
       "689                  1656.0       24.0   18.0               NaN         0.0   \n",
       "4400                  785.0       24.0   12.0               NaN        22.0   \n",
       "4499                  550.0       24.0   24.0               1.0        25.0   \n",
       "\n",
       "      Cuota mensual de mantenimiento  Ambientes  Bodegas  Cantidad de pisos  \\\n",
       "661                              NaN        NaN      NaN                NaN   \n",
       "689                              NaN        NaN      NaN                NaN   \n",
       "4400                             NaN        NaN      NaN                2.0   \n",
       "4499                             NaN        1.0      1.0                4.0   \n",
       "\n",
       "                       site Orientación  Departamentos por piso  \\\n",
       "661    Data\\Chi_houses.json        None                     NaN   \n",
       "689   Data\\Coahuila_ap.json        None                     NaN   \n",
       "4400  Data\\Guerrero_ap.json        None                     NaN   \n",
       "4499  Data\\Guerrero_hs.json         Sur                     NaN   \n",
       "\n",
       "     Tipo de departamento  Número de piso de la unidad Disposición  \\\n",
       "661                  None                          NaN        None   \n",
       "689                  None                          NaN        None   \n",
       "4400                 None                          NaN        None   \n",
       "4499                 None                          NaN        None   \n",
       "\n",
       "     Tipo de casa Tipo de propiedad  cp  \n",
       "661          None              None NaN  \n",
       "689          None              None NaN  \n",
       "4400         None              None NaN  \n",
       "4499         None              None NaN  "
      ]
     },
     "execution_count": 143,
     "metadata": {},
     "output_type": "execute_result"
    }
   ],
   "source": [
    "national_data[national_data['Recamaras']>20]"
   ]
  },
  {
   "cell_type": "code",
   "execution_count": null,
   "id": "9dc92600",
   "metadata": {},
   "outputs": [],
   "source": []
  }
 ],
 "metadata": {
  "kernelspec": {
   "display_name": "Python 3",
   "language": "python",
   "name": "python3"
  },
  "language_info": {
   "codemirror_mode": {
    "name": "ipython",
    "version": 3
   },
   "file_extension": ".py",
   "mimetype": "text/x-python",
   "name": "python",
   "nbconvert_exporter": "python",
   "pygments_lexer": "ipython3",
   "version": "3.8.8"
  }
 },
 "nbformat": 4,
 "nbformat_minor": 5
}
