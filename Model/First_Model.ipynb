{
 "cells": [
  {
   "cell_type": "markdown",
   "id": "4c9e9f8e",
   "metadata": {},
   "source": [
    "# Modelo 01\n",
    "\n",
    "<hr>\n",
    "## Cleaning and Processing Machine Learning data"
   ]
  },
  {
   "cell_type": "code",
   "execution_count": 44,
   "id": "d2b55884",
   "metadata": {},
   "outputs": [],
   "source": [
    "import pandas as pd\n",
    "import os\n",
    "import json\n"
   ]
  },
  {
   "cell_type": "code",
   "execution_count": 51,
   "id": "9dacf2a7",
   "metadata": {},
   "outputs": [],
   "source": [
    "# houses = json.load(open('../../EDOMEX_houses.json'))\n",
    "# apartments = json.load(open('../../EDOMEX_apartments.json'))"
   ]
  },
  {
   "cell_type": "code",
   "execution_count": 52,
   "id": "43142f11",
   "metadata": {},
   "outputs": [],
   "source": [
    "df_houses = pd.read_json('../../EDOMEX_houses.json')\n",
    "df_apartments = pd.read_json('../../EDOMEX_apartments.json')"
   ]
  },
  {
   "cell_type": "code",
   "execution_count": 77,
   "id": "2ce33bda",
   "metadata": {},
   "outputs": [],
   "source": [
    "df_complete = df_houses.append(df_apartments)\n",
    "# df_complete"
   ]
  },
  {
   "cell_type": "code",
   "execution_count": 78,
   "id": "0da3a83e",
   "metadata": {},
   "outputs": [],
   "source": [
    "df_complete = df_complete[df_complete['currency']==\"MXN\"]"
   ]
  },
  {
   "cell_type": "markdown",
   "id": "76304280",
   "metadata": {},
   "source": [
    "### Split data Train and Test"
   ]
  },
  {
   "cell_type": "code",
   "execution_count": 79,
   "id": "694e1337",
   "metadata": {},
   "outputs": [],
   "source": [
    "from sklearn.model_selection import train_test_split\n",
    "\n",
    "# Read data\n",
    "X_full = df_complete\n",
    "# X_test_full = pd.read_csv(\"\")\n",
    "\n",
    "# Obtain Target and Predictions\n",
    "y = X_full.price\n",
    "\n",
    "features = ['type_of_prop',\n",
    "       'Estado', 'Ciudad', 'Colonia', 'Superficie total',\n",
    "       'Superficie construida', 'Ambientes', 'Recamaras', 'Banos',\n",
    "       'Estacionamientos', 'Antiguedad', 'Cantidad de pisos',\n",
    "       'Cuota mensual de mantenimiento', 'Bodegas']\n",
    "\n",
    "X = X_full[features]\n",
    "# X_test = X_test_full[features]\n",
    "\n",
    "# Break off validation set from training data\n",
    "X_train, X_valid, y_train, y_valid = train_test_split(X, y, train_size=0.8, test_size=0.2, random_state=0)\n"
   ]
  },
  {
   "cell_type": "code",
   "execution_count": 80,
   "id": "b044f46c",
   "metadata": {},
   "outputs": [],
   "source": [
    "from sklearn.ensemble import RandomForestRegressor\n",
    "\n",
    "# Define the models\n",
    "model_1 = RandomForestRegressor(n_estimators=50, random_state=0)\n",
    "model_2 = RandomForestRegressor(n_estimators=100, random_state=0)\n",
    "model_3 = RandomForestRegressor(n_estimators=100, criterion='mae', random_state=0)\n",
    "model_4 = RandomForestRegressor(n_estimators=200, min_samples_split=20, random_state=0)\n",
    "model_5 = RandomForestRegressor(n_estimators=100, max_depth=7, random_state=0)\n",
    "\n",
    "models = [model_1, model_2, model_3, model_4, model_5]"
   ]
  },
  {
   "cell_type": "markdown",
   "id": "705093e3",
   "metadata": {},
   "source": [
    "### Categorical Variables"
   ]
  },
  {
   "cell_type": "code",
   "execution_count": 81,
   "id": "fbcee592",
   "metadata": {},
   "outputs": [
    {
     "name": "stdout",
     "output_type": "stream",
     "text": [
      "Categorical variables:\n",
      "['type_of_prop', 'Estado', 'Ciudad', 'Colonia']\n"
     ]
    }
   ],
   "source": [
    "# Get list of categorical variables\n",
    "s = (X_train.dtypes == 'object')\n",
    "object_cols = list(s[s].index)\n",
    "\n",
    "print(\"Categorical variables:\")\n",
    "print(object_cols)"
   ]
  },
  {
   "cell_type": "markdown",
   "id": "065ee75d",
   "metadata": {},
   "source": [
    "### One Hot Encoding"
   ]
  },
  {
   "cell_type": "code",
   "execution_count": 82,
   "id": "cfcc9f31",
   "metadata": {},
   "outputs": [],
   "source": [
    "from sklearn.preprocessing import OneHotEncoder\n",
    "\n",
    "# Apply one-hot encoder to each column with categorical data\n",
    "OH_encoder = OneHotEncoder(handle_unknown='ignore', sparse=False)\n",
    "OH_cols_train = pd.DataFrame(OH_encoder.fit_transform(X_train[object_cols]))\n",
    "OH_cols_valid = pd.DataFrame(OH_encoder.transform(X_valid[object_cols]))\n",
    "\n",
    "# One-hot encoding removed index; put it back\n",
    "OH_cols_train.index = X_train.index\n",
    "OH_cols_valid.index = X_valid.index\n",
    "\n",
    "# Remove categorical columns (will replace with one-hot encoding)\n",
    "num_X_train = X_train.drop(object_cols, axis=1)\n",
    "num_X_valid = X_valid.drop(object_cols, axis=1)\n",
    "\n",
    "# Add one-hot encoded columns to numerical features\n",
    "OH_X_train = pd.concat([num_X_train, OH_cols_train], axis=1)\n",
    "OH_X_valid = pd.concat([num_X_valid, OH_cols_valid], axis=1)\n"
   ]
  },
  {
   "cell_type": "markdown",
   "id": "e8a6a988",
   "metadata": {},
   "source": [
    "### Goodbye NAs "
   ]
  },
  {
   "cell_type": "code",
   "execution_count": 83,
   "id": "22f42e37",
   "metadata": {},
   "outputs": [
    {
     "name": "stdout",
     "output_type": "stream",
     "text": [
      "No more NAs :D\n"
     ]
    }
   ],
   "source": [
    "OH_X_train=OH_X_train.fillna(0)\n",
    "OH_X_valid=OH_X_valid.fillna(0)\n",
    "\n",
    "print(\"No more NAs :D\")"
   ]
  },
  {
   "cell_type": "code",
   "execution_count": 84,
   "id": "1133fd22",
   "metadata": {},
   "outputs": [
    {
     "name": "stdout",
     "output_type": "stream",
     "text": [
      "Model 1 MAE: 1331317\n",
      "Model 2 MAE: 1315987\n",
      "Model 3 MAE: 1277496\n",
      "Model 4 MAE: 1417299\n",
      "Model 5 MAE: 1348177\n"
     ]
    }
   ],
   "source": [
    "from sklearn.metrics import mean_absolute_error\n",
    "\n",
    "# Function for comparing different models\n",
    "def score_model(model, X_t=OH_X_train, X_v=OH_X_valid, y_t=y_train, y_v=y_valid):\n",
    "    model.fit(X_t, y_t)\n",
    "    preds = model.predict(X_v)\n",
    "    return mean_absolute_error(y_v, preds)\n",
    "\n",
    "for i in range(0, len(models)):\n",
    "    mae = score_model(models[i])\n",
    "    print(\"Model %d MAE: %d\" % (i+1, mae))"
   ]
  },
  {
   "cell_type": "code",
   "execution_count": null,
   "id": "329d7fdf",
   "metadata": {},
   "outputs": [],
   "source": []
  }
 ],
 "metadata": {
  "kernelspec": {
   "display_name": "Python 3",
   "language": "python",
   "name": "python3"
  },
  "language_info": {
   "codemirror_mode": {
    "name": "ipython",
    "version": 3
   },
   "file_extension": ".py",
   "mimetype": "text/x-python",
   "name": "python",
   "nbconvert_exporter": "python",
   "pygments_lexer": "ipython3",
   "version": "3.8.8"
  }
 },
 "nbformat": 4,
 "nbformat_minor": 5
}
