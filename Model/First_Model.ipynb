{
 "cells": [
  {
   "cell_type": "markdown",
   "id": "4c9e9f8e",
   "metadata": {},
   "source": [
    "# Modelo 01\n",
    "\n",
    "<hr>\n",
    "## Cleaning and Processing Machine Learning data"
   ]
  },
  {
   "cell_type": "code",
   "execution_count": 1,
   "id": "d2b55884",
   "metadata": {},
   "outputs": [],
   "source": [
    "import pandas as pd"
   ]
  },
  {
   "cell_type": "code",
   "execution_count": null,
   "id": "c8082cb9",
   "metadata": {},
   "outputs": [],
   "source": [
    "csv_file = pd.read_csv(\"../\")"
   ]
  }
 ],
 "metadata": {
  "kernelspec": {
   "display_name": "Python 3",
   "language": "python",
   "name": "python3"
  },
  "language_info": {
   "codemirror_mode": {
    "name": "ipython",
    "version": 3
   },
   "file_extension": ".py",
   "mimetype": "text/x-python",
   "name": "python",
   "nbconvert_exporter": "python",
   "pygments_lexer": "ipython3",
   "version": "3.8.8"
  }
 },
 "nbformat": 4,
 "nbformat_minor": 5
}
