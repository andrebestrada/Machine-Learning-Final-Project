{
 "cells": [
  {
   "cell_type": "code",
   "execution_count": 2,
   "id": "de13efcf",
   "metadata": {},
   "outputs": [],
   "source": [
    "import pandas as pd\n",
    "\n",
    "\n",
    "df = pd.DataFrame({\"Model\":[\"Random Forest\",\"K Nearest Neighbor\",\"Neural Network\"],\n",
    "                   'Mean Average Error':[327623,1554780.80,1911110.52],\n",
    "        'Cross Validation': [1611346, 'X','X'],\n",
    "        'XG Boost': [1473643.11, 'X','X'],\n",
    "        'Testing Accuracy Score':['X','k: 19, Train/Test Score: 0.104/0.025','X'],\n",
    "        'Root Mean Squared Error':[528468.71,3979855.96,3363693.25]})"
   ]
  },
  {
   "cell_type": "code",
   "execution_count": 3,
   "id": "ffe46f4f",
   "metadata": {},
   "outputs": [
    {
     "data": {
      "text/html": [
       "<div>\n",
       "<style scoped>\n",
       "    .dataframe tbody tr th:only-of-type {\n",
       "        vertical-align: middle;\n",
       "    }\n",
       "\n",
       "    .dataframe tbody tr th {\n",
       "        vertical-align: top;\n",
       "    }\n",
       "\n",
       "    .dataframe thead th {\n",
       "        text-align: right;\n",
       "    }\n",
       "</style>\n",
       "<table border=\"1\" class=\"dataframe\">\n",
       "  <thead>\n",
       "    <tr style=\"text-align: right;\">\n",
       "      <th></th>\n",
       "      <th>Model</th>\n",
       "      <th>Mean Average Error</th>\n",
       "      <th>Cross Validation</th>\n",
       "      <th>XG Boost</th>\n",
       "      <th>Testing Accuracy Score</th>\n",
       "      <th>Root Mean Squared Error</th>\n",
       "    </tr>\n",
       "  </thead>\n",
       "  <tbody>\n",
       "    <tr>\n",
       "      <th>0</th>\n",
       "      <td>Random Forest</td>\n",
       "      <td>327623.00</td>\n",
       "      <td>1611346</td>\n",
       "      <td>1.47364e+06</td>\n",
       "      <td>X</td>\n",
       "      <td>528468.71</td>\n",
       "    </tr>\n",
       "    <tr>\n",
       "      <th>1</th>\n",
       "      <td>K Nearest Neighbor</td>\n",
       "      <td>1554780.80</td>\n",
       "      <td>X</td>\n",
       "      <td>X</td>\n",
       "      <td>k: 19, Train/Test Score: 0.104/0.025</td>\n",
       "      <td>3979855.96</td>\n",
       "    </tr>\n",
       "    <tr>\n",
       "      <th>2</th>\n",
       "      <td>Neural Network</td>\n",
       "      <td>1911110.52</td>\n",
       "      <td>X</td>\n",
       "      <td>X</td>\n",
       "      <td>X</td>\n",
       "      <td>3363693.25</td>\n",
       "    </tr>\n",
       "  </tbody>\n",
       "</table>\n",
       "</div>"
      ],
      "text/plain": [
       "                Model  Mean Average Error Cross Validation     XG Boost  \\\n",
       "0       Random Forest           327623.00          1611346  1.47364e+06   \n",
       "1  K Nearest Neighbor          1554780.80                X            X   \n",
       "2      Neural Network          1911110.52                X            X   \n",
       "\n",
       "                 Testing Accuracy Score  Root Mean Squared Error  \n",
       "0                                     X                528468.71  \n",
       "1  k: 19, Train/Test Score: 0.104/0.025               3979855.96  \n",
       "2                                     X               3363693.25  "
      ]
     },
     "execution_count": 3,
     "metadata": {},
     "output_type": "execute_result"
    }
   ],
   "source": [
    "df"
   ]
  },
  {
   "cell_type": "code",
   "execution_count": 4,
   "id": "9eb62267",
   "metadata": {},
   "outputs": [
    {
     "data": {
      "text/plain": [
       "<BarContainer object of 3 artists>"
      ]
     },
     "execution_count": 4,
     "metadata": {},
     "output_type": "execute_result"
    },
    {
     "data": {
      "image/png": "[encoded data removed]",
      "text/plain": [
       "<Figure size 432x288 with 1 Axes>"
      ]
     },
     "metadata": {
      "needs_background": "light"
     },
     "output_type": "display_data"
    }
   ],
   "source": [
    "import matplotlib.pyplot as plt\n",
    "import numpy as np\n",
    "\n",
    "mean_average = [327623,1554780.80,1911110.52]\n",
    "x_axis = ['Random Forest','K Nearest Neighbor','Neural Network']\n",
    "plt.title(\"Mean Average Error\")\n",
    "plt.xlabel(\"Model\")\n",
    "plt.ylabel(\"MXN\")\n",
    "\n",
    "plt.bar(x_axis, mean_average)"
   ]
  },
  {
   "cell_type": "code",
   "execution_count": null,
   "id": "6479e7a9",
   "metadata": {},
   "outputs": [],
   "source": []
  }
 ],
 "metadata": {
  "kernelspec": {
   "display_name": "Python 3",
   "language": "python",
   "name": "python3"
  },
  "language_info": {
   "codemirror_mode": {
    "name": "ipython",
    "version": 3
   },
   "file_extension": ".py",
   "mimetype": "text/x-python",
   "name": "python",
   "nbconvert_exporter": "python",
   "pygments_lexer": "ipython3",
   "version": "3.6.10"
  }
 },
 "nbformat": 4,
 "nbformat_minor": 5
}
