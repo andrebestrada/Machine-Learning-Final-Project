{
 "cells": [
  {
   "cell_type": "code",
   "execution_count": null,
   "source": [
    "import matplotlib.pyplot as plt\n",
    "from sklearn.neighbors import KNeighborsClassifier\n",
    "import pandas as pd\n",
    "import os"
   ],
   "outputs": [],
   "metadata": {}
  },
  {
   "cell_type": "code",
   "execution_count": null,
   "source": [],
   "outputs": [],
   "metadata": {}
  }
 ],
 "metadata": {
  "orig_nbformat": 4,
  "language_info": {
   "name": "python",
   "version": "3.6.10"
  },
  "kernelspec": {
   "name": "python3",
   "display_name": "Python 3.6.10 64-bit ('PythonData2': conda)"
  },
  "interpreter": {
   "hash": "2abe544063cb6d88be1b1e46b23351b31a7d6f807ca3dabfb6f124991fa153ed"
  }
 },
 "nbformat": 4,
 "nbformat_minor": 2
}