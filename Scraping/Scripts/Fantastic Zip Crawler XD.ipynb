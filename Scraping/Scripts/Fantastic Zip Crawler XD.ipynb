{
 "cells": [
  {
   "cell_type": "code",
   "execution_count": 1,
   "id": "e0291d95",
   "metadata": {},
   "outputs": [],
   "source": [
    "import pandas as pd\n",
    "import os\n",
    "import bs4\n",
    "import json\n",
    "import requests\n",
    "from datetime import timedelta, date\n",
    "from bs4 import BeautifulSoup"
   ]
  },
  {
   "cell_type": "code",
   "execution_count": 2,
   "id": "067ca0bf",
   "metadata": {},
   "outputs": [],
   "source": [
    "base_url = 'https://codigospostalessitecorecms.azurewebsites.net/Codigo-Postal/'\n",
    "getMunicipality = 'wApi/getMunicipality'\n",
    "getSettlement='wApi/getSettlement'"
   ]
  },
  {
   "cell_type": "code",
   "execution_count": 17,
   "id": "af3c584f",
   "metadata": {},
   "outputs": [],
   "source": [
    "f = open('../output/Chiapas_houses.json',)\n",
    "data = json.load(f)"
   ]
  },
  {
   "cell_type": "code",
   "execution_count": 29,
   "id": "0f013f89",
   "metadata": {},
   "outputs": [
    {
     "data": {
      "text/plain": [
       "dict"
      ]
     },
     "execution_count": 29,
     "metadata": {},
     "output_type": "execute_result"
    }
   ],
   "source": [
    "type(data[0])"
   ]
  },
  {
   "cell_type": "code",
   "execution_count": 30,
   "id": "aa364505",
   "metadata": {},
   "outputs": [
    {
     "name": "stdout",
     "output_type": "stream",
     "text": [
      "Estado 07\n",
      "Ciudad 078\n",
      "Colonia 0375\n",
      "CP 29270\n",
      "-------------\n",
      "Estado 07\n",
      "Ciudad 078\n",
      "Colonia 0342\n",
      "CP 29230\n",
      "-------------\n",
      "Estado 07\n",
      "Ciudad 078\n",
      "Colonia 0343\n",
      "CP 29230\n",
      "-------------\n"
     ]
    }
   ],
   "source": [
    "try:\n",
    "    for element in data:\n",
    "        estado = element['Estado']\n",
    "        ciudad = element['Ciudad'].upper()\n",
    "        colonia= element['Colonia'].upper()\n",
    "        \n",
    "        first_page = requests.get(base_url)\n",
    "        html = bs4.BeautifulSoup(first_page.text, \"html5lib\")\n",
    "        select = html.find('select', attrs={'id':'cve_state'})\n",
    "        options = select.findAll('option')\n",
    "        \n",
    "        for option in options:\n",
    "            if option.text == estado:\n",
    "                cve_estado = option['value']\n",
    "                print(f'Estado {cve_estado}')\n",
    "                \n",
    "                payload = {\"cve_state\":cve_estado,\\\n",
    "                           \"full\":\"true\"}\n",
    "                second_page = requests.post(base_url+getMunicipality, data=payload)\n",
    "                html = bs4.BeautifulSoup(second_page.text, \"html5lib\")\n",
    "                select = html.find('select', attrs={'id':'cve_municipality'})\n",
    "                options = select.findAll('option')\n",
    "                \n",
    "                for option in options:\n",
    "                    #print(f'{option.text}-{ciudad}')\n",
    "                    if option.text.upper() == ciudad:\n",
    "                        cve_municipality = option['value']\n",
    "                        print(f'Ciudad {cve_municipality}')\n",
    "                        \n",
    "                        payload = {\"cve_state\":cve_estado,\\\n",
    "                                   \"cve_municipality\":cve_municipality}\n",
    "                        third_page = requests.post(base_url+getMunicipality, data=payload)\n",
    "                        html = bs4.BeautifulSoup(third_page.text, \"html5lib\")\n",
    "                        select = html.find('select', attrs={'id':'cve_settlement'})\n",
    "                        options = select.findAll('option')\n",
    "\n",
    "                        for option in options:\n",
    "                            #print(f'{option.text}-{colonia}')\n",
    "                            if option.text.upper() == colonia:\n",
    "                                cve_settlement = option['value']\n",
    "                                print(f'Colonia {cve_settlement}')\n",
    "\n",
    "                                payload = {\"cve_state\":cve_estado,\\\n",
    "                                           \"cve_municipality\":cve_municipality,\\\n",
    "                                           \"cve_settlement\":cve_settlement}\n",
    "                                fourth_page = requests.post(base_url+getMunicipality, data=payload)\n",
    "                                html = bs4.BeautifulSoup(fourth_page.text, \"html5lib\")\n",
    "                                tr = html.find('tr', class_='pagedemo _current')\n",
    "                                codigo_postal = tr.find('td').text\n",
    "                                print(f'CP {codigo_postal}')\n",
    "                                print('-------------')\n",
    "                                element['cp'] = codigo_postal\n",
    "                \n",
    "except:\n",
    "        print(element)"
   ]
  },
  {
   "cell_type": "code",
   "execution_count": 31,
   "id": "3f9c6dc1",
   "metadata": {},
   "outputs": [
    {
     "data": {
      "text/plain": [
       "[{'url': 'https://casa.metroscubicos.com/MLM-924394115-en-venta-casa-nueva-_JM#position=1&search_layout=grid&type=item&tracking_id=3eca2dbc-a0ba-4293-9da2-86c3622a7ebd',\n",
       "  'type_of_offer': 'sale',\n",
       "  'type_of_prop': 'houses',\n",
       "  'name': 'En Venta, Casa Nueva.',\n",
       "  'price': 4150000,\n",
       "  'currency': 'MXN',\n",
       "  'Estado': 'Chiapas',\n",
       "  'Ciudad': 'San Cristóbal De Las Casas',\n",
       "  'Colonia': 'San Diego',\n",
       "  'Superficie total': 175.0,\n",
       "  'Superficie construida': 230.0,\n",
       "  'Recamaras': 3.0,\n",
       "  'Banos': 3.0,\n",
       "  'Estacionamientos': 2.0,\n",
       "  'Antiguedad': 0.0,\n",
       "  'cp': '29270'},\n",
       " {'url': 'https://casa.metroscubicos.com/MLM-924438370-casa-en-venta-barrio-de-cuxtitali-_JM#position=2&search_layout=grid&type=item&tracking_id=3eca2dbc-a0ba-4293-9da2-86c3622a7ebd',\n",
       "  'type_of_offer': 'sale',\n",
       "  'type_of_prop': 'houses',\n",
       "  'name': 'Casa En Venta, Barrio De Cuxtitali',\n",
       "  'price': 300000,\n",
       "  'currency': 'USD',\n",
       "  'Estado': 'Chiapas',\n",
       "  'Ciudad': 'San Cristóbal De Las Casas',\n",
       "  'Colonia': 'Cuxtitali',\n",
       "  'Superficie total': 610.0,\n",
       "  'Superficie construida': 250.0,\n",
       "  'Recamaras': 3.0,\n",
       "  'Banos': 2.0,\n",
       "  'Estacionamientos': 2.0,\n",
       "  'Antiguedad': 35.0,\n",
       "  'cp': '29230'},\n",
       " {'url': 'https://casa.metroscubicos.com/MLM-927013683-casa-en-el-barrio-de-guadalupe-_JM#position=3&search_layout=grid&type=item&tracking_id=3eca2dbc-a0ba-4293-9da2-86c3622a7ebd',\n",
       "  'type_of_offer': 'sale',\n",
       "  'type_of_prop': 'houses',\n",
       "  'name': 'Casa  En El Barrio De Guadalupe',\n",
       "  'price': 10500000,\n",
       "  'currency': 'MXN',\n",
       "  'Estado': 'Chiapas',\n",
       "  'Ciudad': 'San Cristóbal De Las Casas',\n",
       "  'Colonia': 'Guadalupe',\n",
       "  'Superficie total': 620.0,\n",
       "  'Superficie construida': 574.0,\n",
       "  'Recamaras': 10.0,\n",
       "  'Banos': 8.0,\n",
       "  'Estacionamientos': 8.0,\n",
       "  'Antiguedad': 45.0,\n",
       "  'cp': '29230'}]"
      ]
     },
     "execution_count": 31,
     "metadata": {},
     "output_type": "execute_result"
    }
   ],
   "source": [
    "data"
   ]
  },
  {
   "cell_type": "code",
   "execution_count": null,
   "id": "a5287ee2",
   "metadata": {},
   "outputs": [],
   "source": []
  }
 ],
 "metadata": {
  "kernelspec": {
   "display_name": "Python [conda env:Python_01] *",
   "language": "python",
   "name": "conda-env-Python_01-py"
  },
  "language_info": {
   "codemirror_mode": {
    "name": "ipython",
    "version": 3
   },
   "file_extension": ".py",
   "mimetype": "text/x-python",
   "name": "python",
   "nbconvert_exporter": "python",
   "pygments_lexer": "ipython3",
   "version": "3.6.10"
  }
 },
 "nbformat": 4,
 "nbformat_minor": 5
}
