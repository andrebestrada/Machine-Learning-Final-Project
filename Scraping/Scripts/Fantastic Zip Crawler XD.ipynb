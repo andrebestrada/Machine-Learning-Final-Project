{
 "cells": [
  {
   "cell_type": "code",
   "execution_count": null,
   "id": "e0291d95",
   "metadata": {},
   "outputs": [],
   "source": [
    "import pandas as pd\n",
    "import os\n",
    "import bs4\n",
    "import json\n",
    "import requests\n",
    "from datetime import timedelta, date\n",
    "from bs4 import BeautifulSoup"
   ]
  },
  {
   "cell_type": "code",
   "execution_count": null,
   "id": "067ca0bf",
   "metadata": {},
   "outputs": [],
   "source": [
    "base_url = 'https://codigospostalessitecorecms.azurewebsites.net/Codigo-Postal/'\n",
    "getMunicipality = 'wApi/getMunicipality'\n",
    "getSettlement='wApi/getSettlement'"
   ]
  },
  {
   "cell_type": "code",
   "execution_count": null,
   "id": "af3c584f",
   "metadata": {},
   "outputs": [],
   "source": [
    "f = open('../output/Chiapas_houses.json',)\n",
    "data = json.load(f)\n",
    "\n",
    "# f = open('../../../EDOMEX_apartments.json')\n",
    "# data = json.load(f)\n",
    "\n",
    "# df = pd.read_json('../../../EDOMEX_apartments.json')\n",
    "# df.head()\n"
   ]
  },
  {
   "cell_type": "code",
   "execution_count": null,
   "id": "88f04273",
   "metadata": {},
   "outputs": [],
   "source": [
    "type(data[0])"
   ]
  },
  {
   "cell_type": "code",
   "execution_count": null,
   "id": "aa364505",
   "metadata": {},
   "outputs": [],
   "source": [
    "try:\n",
    "    for element in df:\n",
    "        estado = element['Estado']\n",
    "        ciudad = element['Ciudad'].upper()\n",
    "        colonia= element['Colonia'].upper()\n",
    "        \n",
    "        first_page = requests.get(base_url)\n",
    "        html = bs4.BeautifulSoup(first_page.text, \"html5lib\")\n",
    "        select = html.find('select', attrs={'id':'cve_state'})\n",
    "        options = select.findAll('option')\n",
    "        \n",
    "        for option in options:\n",
    "            if option.text == estado:\n",
    "                cve_estado = option['value']\n",
    "                print(f'Estado {cve_estado}')\n",
    "                \n",
    "                payload = {\"cve_state\":cve_estado,\\\n",
    "                           \"full\":\"true\"}\n",
    "                second_page = requests.post(base_url+getMunicipality, data=payload)\n",
    "                html = bs4.BeautifulSoup(second_page.text, \"html5lib\")\n",
    "                select = html.find('select', attrs={'id':'cve_municipality'})\n",
    "                options = select.findAll('option')\n",
    "                \n",
    "                for option in options:\n",
    "                    #print(f'{option.text}-{ciudad}')\n",
    "                    if option.text.upper() == ciudad:\n",
    "                        cve_municipality = option['value']\n",
    "                        print(f'Ciudad {cve_municipality}')\n",
    "                        \n",
    "                        payload = {\"cve_state\":cve_estado,\\\n",
    "                                   \"cve_municipality\":cve_municipality}\n",
    "                        third_page = requests.post(base_url+getMunicipality, data=payload)\n",
    "                        html = bs4.BeautifulSoup(third_page.text, \"html5lib\")\n",
    "                        select = html.find('select', attrs={'id':'cve_settlement'})\n",
    "                        options = select.findAll('option')\n",
    "\n",
    "                        for option in options:\n",
    "                            #print(f'{option.text}-{colonia}')\n",
    "                            if option.text.upper() == colonia:\n",
    "                                cve_settlement = option['value']\n",
    "                                print(f'Colonia {cve_settlement}')\n",
    "\n",
    "                                payload = {\"cve_state\":cve_estado,\\\n",
    "                                           \"cve_municipality\":cve_municipality,\\\n",
    "                                           \"cve_settlement\":cve_settlement}\n",
    "                                fourth_page = requests.post(base_url+getMunicipality, data=payload)\n",
    "                                html = bs4.BeautifulSoup(fourth_page.text, \"html5lib\")\n",
    "                                tr = html.find('tr', class_='pagedemo _current')\n",
    "                                codigo_postal = tr.find('td').text\n",
    "                                print(f'CP {codigo_postal}')\n",
    "                                print('-------------')\n",
    "                                element['cp'] = codigo_postal\n",
    "                \n",
    "except:\n",
    "        print(element)"
   ]
  },
  {
   "cell_type": "code",
   "execution_count": null,
   "id": "3f9c6dc1",
   "metadata": {},
   "outputs": [],
   "source": [
    "data"
   ]
  },
  {
   "cell_type": "code",
   "execution_count": null,
   "id": "a5287ee2",
   "metadata": {},
   "outputs": [],
   "source": [
    "element"
   ]
  },
  {
   "cell_type": "code",
   "execution_count": null,
   "id": "2f8ea499",
   "metadata": {},
   "outputs": [],
   "source": []
  }
 ],
 "metadata": {
  "kernelspec": {
   "display_name": "Python 3",
   "language": "python",
   "name": "python3"
  },
  "language_info": {
   "codemirror_mode": {
    "name": "ipython",
    "version": 3
   },
   "file_extension": ".py",
   "mimetype": "text/x-python",
   "name": "python",
   "nbconvert_exporter": "python",
   "pygments_lexer": "ipython3",
   "version": "3.8.8"
  }
 },
 "nbformat": 4,
 "nbformat_minor": 5
}
