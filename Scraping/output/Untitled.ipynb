{
 "cells": [
  {
   "cell_type": "code",
   "execution_count": 1,
   "id": "09e0f880",
   "metadata": {},
   "outputs": [],
   "source": [
    "# Dependencies\n",
    "import pandas as pd"
   ]
  },
  {
   "cell_type": "code",
   "execution_count": 2,
   "id": "800da633",
   "metadata": {},
   "outputs": [],
   "source": [
    "apt_file = 'cdmx_apartments.json'\n",
    "houses_file = 'cdmx_houses.json'"
   ]
  },
  {
   "cell_type": "code",
   "execution_count": 12,
   "id": "5c625247",
   "metadata": {},
   "outputs": [
    {
     "data": {
      "text/html": [
       "<div>\n",
       "<style scoped>\n",
       "    .dataframe tbody tr th:only-of-type {\n",
       "        vertical-align: middle;\n",
       "    }\n",
       "\n",
       "    .dataframe tbody tr th {\n",
       "        vertical-align: top;\n",
       "    }\n",
       "\n",
       "    .dataframe thead th {\n",
       "        text-align: right;\n",
       "    }\n",
       "</style>\n",
       "<table border=\"1\" class=\"dataframe\">\n",
       "  <thead>\n",
       "    <tr style=\"text-align: right;\">\n",
       "      <th></th>\n",
       "      <th>url</th>\n",
       "      <th>type_of_offer</th>\n",
       "      <th>type_of_prop</th>\n",
       "      <th>name</th>\n",
       "      <th>price</th>\n",
       "      <th>currency</th>\n",
       "    </tr>\n",
       "  </thead>\n",
       "  <tbody>\n",
       "    <tr>\n",
       "      <th>0</th>\n",
       "      <td>https://casa.metroscubicos.com/MLM-959196566-c...</td>\n",
       "      <td>sale</td>\n",
       "      <td>houses</td>\n",
       "      <td>Casa En Venta En Condominio En San Jerónimo</td>\n",
       "      <td>10490000</td>\n",
       "      <td>MXN</td>\n",
       "    </tr>\n",
       "    <tr>\n",
       "      <th>1</th>\n",
       "      <td>https://casa.metroscubicos.com/MLM-959669649-c...</td>\n",
       "      <td>sale</td>\n",
       "      <td>houses</td>\n",
       "      <td>Casa En Venta Con Uso De Suelo, Obrera, Cuauht...</td>\n",
       "      <td>6350000</td>\n",
       "      <td>MXN</td>\n",
       "    </tr>\n",
       "    <tr>\n",
       "      <th>2</th>\n",
       "      <td>https://casa.metroscubicos.com/MLM-940901336-v...</td>\n",
       "      <td>sale</td>\n",
       "      <td>houses</td>\n",
       "      <td>Vendo O Cambio Casa En Cdmx Y Terreno En Toluca</td>\n",
       "      <td>850000</td>\n",
       "      <td>MXN</td>\n",
       "    </tr>\n",
       "    <tr>\n",
       "      <th>3</th>\n",
       "      <td>https://casa.metroscubicos.com/MLM-911716076-v...</td>\n",
       "      <td>sale</td>\n",
       "      <td>houses</td>\n",
       "      <td>Venta Casa, Tecamac, Estado De México, Residen...</td>\n",
       "      <td>1690000</td>\n",
       "      <td>MXN</td>\n",
       "    </tr>\n",
       "    <tr>\n",
       "      <th>4</th>\n",
       "      <td>https://casa.metroscubicos.com/MLM-877491739-c...</td>\n",
       "      <td>sale</td>\n",
       "      <td>houses</td>\n",
       "      <td>Casa En Venta En Metepec, Con Rápida Salida A ...</td>\n",
       "      <td>6500000</td>\n",
       "      <td>MXN</td>\n",
       "    </tr>\n",
       "    <tr>\n",
       "      <th>...</th>\n",
       "      <td>...</td>\n",
       "      <td>...</td>\n",
       "      <td>...</td>\n",
       "      <td>...</td>\n",
       "      <td>...</td>\n",
       "      <td>...</td>\n",
       "    </tr>\n",
       "    <tr>\n",
       "      <th>91</th>\n",
       "      <td>https://departamento.metroscubicos.com/MLM-946...</td>\n",
       "      <td>sale</td>\n",
       "      <td>apartments</td>\n",
       "      <td>Venta Depa Amplio Y Super Remodelado En La Rom...</td>\n",
       "      <td>4495000</td>\n",
       "      <td>MXN</td>\n",
       "    </tr>\n",
       "    <tr>\n",
       "      <th>92</th>\n",
       "      <td>https://departamento.metroscubicos.com/MLM-944...</td>\n",
       "      <td>sale</td>\n",
       "      <td>apartments</td>\n",
       "      <td>Venta Departamento Del Valle, Df. Entrega Novi...</td>\n",
       "      <td>5454042</td>\n",
       "      <td>MXN</td>\n",
       "    </tr>\n",
       "    <tr>\n",
       "      <th>93</th>\n",
       "      <td>https://departamento.metroscubicos.com/MLM-957...</td>\n",
       "      <td>sale</td>\n",
       "      <td>apartments</td>\n",
       "      <td>Venta Depa Acabados De Lujo En Cuauhtemoc, Df!...</td>\n",
       "      <td>3927600</td>\n",
       "      <td>MXN</td>\n",
       "    </tr>\n",
       "    <tr>\n",
       "      <th>94</th>\n",
       "      <td>https://departamento.metroscubicos.com/MLM-957...</td>\n",
       "      <td>sale</td>\n",
       "      <td>apartments</td>\n",
       "      <td>Preventa Genial Depa Cuajimalpa, Df! Cat22-135</td>\n",
       "      <td>3338400</td>\n",
       "      <td>MXN</td>\n",
       "    </tr>\n",
       "    <tr>\n",
       "      <th>95</th>\n",
       "      <td>https://departamento.metroscubicos.com/MLM-957...</td>\n",
       "      <td>sale</td>\n",
       "      <td>apartments</td>\n",
       "      <td>Estrena Hoy Fabuloso Depa En La Del Valle, Df!...</td>\n",
       "      <td>5499700</td>\n",
       "      <td>MXN</td>\n",
       "    </tr>\n",
       "  </tbody>\n",
       "</table>\n",
       "<p>528 rows × 6 columns</p>\n",
       "</div>"
      ],
      "text/plain": [
       "                                                  url type_of_offer  \\\n",
       "0   https://casa.metroscubicos.com/MLM-959196566-c...          sale   \n",
       "1   https://casa.metroscubicos.com/MLM-959669649-c...          sale   \n",
       "2   https://casa.metroscubicos.com/MLM-940901336-v...          sale   \n",
       "3   https://casa.metroscubicos.com/MLM-911716076-v...          sale   \n",
       "4   https://casa.metroscubicos.com/MLM-877491739-c...          sale   \n",
       "..                                                ...           ...   \n",
       "91  https://departamento.metroscubicos.com/MLM-946...          sale   \n",
       "92  https://departamento.metroscubicos.com/MLM-944...          sale   \n",
       "93  https://departamento.metroscubicos.com/MLM-957...          sale   \n",
       "94  https://departamento.metroscubicos.com/MLM-957...          sale   \n",
       "95  https://departamento.metroscubicos.com/MLM-957...          sale   \n",
       "\n",
       "   type_of_prop                                               name     price  \\\n",
       "0        houses        Casa En Venta En Condominio En San Jerónimo  10490000   \n",
       "1        houses  Casa En Venta Con Uso De Suelo, Obrera, Cuauht...   6350000   \n",
       "2        houses    Vendo O Cambio Casa En Cdmx Y Terreno En Toluca    850000   \n",
       "3        houses  Venta Casa, Tecamac, Estado De México, Residen...   1690000   \n",
       "4        houses  Casa En Venta En Metepec, Con Rápida Salida A ...   6500000   \n",
       "..          ...                                                ...       ...   \n",
       "91   apartments  Venta Depa Amplio Y Super Remodelado En La Rom...   4495000   \n",
       "92   apartments  Venta Departamento Del Valle, Df. Entrega Novi...   5454042   \n",
       "93   apartments  Venta Depa Acabados De Lujo En Cuauhtemoc, Df!...   3927600   \n",
       "94   apartments     Preventa Genial Depa Cuajimalpa, Df! Cat22-135   3338400   \n",
       "95   apartments  Estrena Hoy Fabuloso Depa En La Del Valle, Df!...   5499700   \n",
       "\n",
       "   currency  \n",
       "0       MXN  \n",
       "1       MXN  \n",
       "2       MXN  \n",
       "3       MXN  \n",
       "4       MXN  \n",
       "..      ...  \n",
       "91      MXN  \n",
       "92      MXN  \n",
       "93      MXN  \n",
       "94      MXN  \n",
       "95      MXN  \n",
       "\n",
       "[528 rows x 6 columns]"
      ]
     },
     "execution_count": 12,
     "metadata": {},
     "output_type": "execute_result"
    }
   ],
   "source": [
    "house_df = pd.read_json(houses_file)\n",
    "apt_df = pd.read_json(apt_file)\n",
    "\n",
    "cdmx_frames = [house_df, apt_df]\n",
    "cdmx_df = pd.concat(cdmx_frames)\n",
    "cdmx_df"
   ]
  },
  {
   "cell_type": "code",
   "execution_count": 13,
   "id": "c074c21d",
   "metadata": {},
   "outputs": [
    {
     "data": {
      "text/plain": [
       "url              object\n",
       "type_of_offer    object\n",
       "type_of_prop     object\n",
       "name             object\n",
       "price             int64\n",
       "currency         object\n",
       "dtype: object"
      ]
     },
     "execution_count": 13,
     "metadata": {},
     "output_type": "execute_result"
    }
   ],
   "source": [
    "cdmx_df.dtypes"
   ]
  },
  {
   "cell_type": "code",
   "execution_count": null,
   "id": "4acbd54e",
   "metadata": {},
   "outputs": [],
   "source": [
    "cdmx_df.drop_duplicates"
   ]
  },
  {
   "cell_type": "code",
   "execution_count": 21,
   "id": "9ad700a8",
   "metadata": {},
   "outputs": [
    {
     "data": {
      "text/plain": [
       "houses        432\n",
       "apartments     96\n",
       "Name: type_of_prop, dtype: int64"
      ]
     },
     "execution_count": 21,
     "metadata": {},
     "output_type": "execute_result"
    }
   ],
   "source": [
    "cdmx_df['type_of_prop'].value_counts()"
   ]
  },
  {
   "cell_type": "code",
   "execution_count": 20,
   "id": "4f9aa909",
   "metadata": {},
   "outputs": [
    {
     "data": {
      "text/plain": [
       "MXN    521\n",
       "USD      7\n",
       "Name: currency, dtype: int64"
      ]
     },
     "execution_count": 20,
     "metadata": {},
     "output_type": "execute_result"
    }
   ],
   "source": [
    "cdmx_df['currency'].value_counts()"
   ]
  },
  {
   "cell_type": "code",
   "execution_count": null,
   "id": "af88c23b",
   "metadata": {},
   "outputs": [],
   "source": [
    "cdmx_df.drop"
   ]
  },
  {
   "cell_type": "code",
   "execution_count": 18,
   "id": "6a055fb2",
   "metadata": {},
   "outputs": [
    {
     "data": {
      "text/html": [
       "<div>\n",
       "<style scoped>\n",
       "    .dataframe tbody tr th:only-of-type {\n",
       "        vertical-align: middle;\n",
       "    }\n",
       "\n",
       "    .dataframe tbody tr th {\n",
       "        vertical-align: top;\n",
       "    }\n",
       "\n",
       "    .dataframe thead th {\n",
       "        text-align: right;\n",
       "    }\n",
       "</style>\n",
       "<table border=\"1\" class=\"dataframe\">\n",
       "  <thead>\n",
       "    <tr style=\"text-align: right;\">\n",
       "      <th></th>\n",
       "      <th>price</th>\n",
       "    </tr>\n",
       "  </thead>\n",
       "  <tbody>\n",
       "    <tr>\n",
       "      <th>count</th>\n",
       "      <td>5.280000e+02</td>\n",
       "    </tr>\n",
       "    <tr>\n",
       "      <th>mean</th>\n",
       "      <td>9.958749e+06</td>\n",
       "    </tr>\n",
       "    <tr>\n",
       "      <th>std</th>\n",
       "      <td>1.063688e+07</td>\n",
       "    </tr>\n",
       "    <tr>\n",
       "      <th>min</th>\n",
       "      <td>1.358000e+03</td>\n",
       "    </tr>\n",
       "    <tr>\n",
       "      <th>25%</th>\n",
       "      <td>2.977500e+06</td>\n",
       "    </tr>\n",
       "    <tr>\n",
       "      <th>50%</th>\n",
       "      <td>6.600000e+06</td>\n",
       "    </tr>\n",
       "    <tr>\n",
       "      <th>75%</th>\n",
       "      <td>1.290000e+07</td>\n",
       "    </tr>\n",
       "    <tr>\n",
       "      <th>max</th>\n",
       "      <td>7.850000e+07</td>\n",
       "    </tr>\n",
       "  </tbody>\n",
       "</table>\n",
       "</div>"
      ],
      "text/plain": [
       "              price\n",
       "count  5.280000e+02\n",
       "mean   9.958749e+06\n",
       "std    1.063688e+07\n",
       "min    1.358000e+03\n",
       "25%    2.977500e+06\n",
       "50%    6.600000e+06\n",
       "75%    1.290000e+07\n",
       "max    7.850000e+07"
      ]
     },
     "execution_count": 18,
     "metadata": {},
     "output_type": "execute_result"
    }
   ],
   "source": [
    "cdmx = cdmx_df.loc[cdmx_df[\"country\"] == \"us\", :]\n",
    "usa_ufo_df.head()"
   ]
  }
 ],
 "metadata": {
  "kernelspec": {
   "display_name": "Python [conda env:pythondata] *",
   "language": "python",
   "name": "conda-env-pythondata-py"
  },
  "language_info": {
   "codemirror_mode": {
    "name": "ipython",
    "version": 3
   },
   "file_extension": ".py",
   "mimetype": "text/x-python",
   "name": "python",
   "nbconvert_exporter": "python",
   "pygments_lexer": "ipython3",
   "version": "3.6.10"
  }
 },
 "nbformat": 4,
 "nbformat_minor": 5
}
