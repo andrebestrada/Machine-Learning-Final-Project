{
 "cells": [
  {
   "cell_type": "code",
   "execution_count": null,
   "metadata": {},
   "outputs": [],
   "source": [
    "# Dependencies\n",
    "import pandas as pd"
   ]
  },
  {
   "cell_type": "code",
   "execution_count": 9,
   "metadata": {},
   "outputs": [
    {
     "data": {
      "text/plain": [
       "['Data\\\\Chiapas_apartments.json',\n",
       " 'Data\\\\Chiapas_houses.json',\n",
       " 'Data\\\\Chi_apartments.json',\n",
       " 'Data\\\\Chi_houses.json',\n",
       " 'Data\\\\Col_apartments.json',\n",
       " 'Data\\\\Col_houses.json',\n",
       " 'Data\\\\data_cdmx_apartments.json',\n",
       " 'Data\\\\data_cdmx_houses.json',\n",
       " 'Data\\\\data_edomex_apartments.json',\n",
       " 'Data\\\\data_edomex_houses.json',\n",
       " 'Data\\\\data_gdl_apartments.json',\n",
       " 'Data\\\\data_gdl_houses.json',\n",
       " 'Data\\\\data_nl_apartments.json',\n",
       " 'Data\\\\data_nl_houses.json',\n",
       " 'Data\\\\data_pbl_apartments.json',\n",
       " 'Data\\\\data_pbl_houses.json',\n",
       " 'Data\\\\data_tamp_apartments.json',\n",
       " 'Data\\\\data_tamp_houses.json',\n",
       " 'Data\\\\data_ver_apartments.json',\n",
       " 'Data\\\\data_ver_houses.json',\n",
       " 'Data\\\\Dur_apartments.json',\n",
       " 'Data\\\\Dur_houses.json',\n",
       " 'Data\\\\Gdl_apartments.json',\n",
       " 'Data\\\\Gdl_houses.json',\n",
       " 'Data\\\\Oax_apartments.json',\n",
       " 'Data\\\\Oax_houses.json',\n",
       " 'Data\\\\Sin_apartments.json',\n",
       " 'Data\\\\Sin_houses.json']"
      ]
     },
     "execution_count": 9,
     "metadata": {},
     "output_type": "execute_result"
    }
   ],
   "source": [
    "import pandas as pd\n",
    "import glob, os, json\n",
    "\n",
    "\n",
    "json_dir = 'Data'\n",
    "\n",
    "json_pattern = os.path.join(json_dir, '*.json')\n",
    "file_list = glob.glob(json_pattern)\n",
    "file_list"
   ]
  },
  {
   "cell_type": "code",
   "execution_count": 11,
   "metadata": {},
   "outputs": [
    {
     "data": {
      "text/html": [
       "<div>\n",
       "<style scoped>\n",
       "    .dataframe tbody tr th:only-of-type {\n",
       "        vertical-align: middle;\n",
       "    }\n",
       "\n",
       "    .dataframe tbody tr th {\n",
       "        vertical-align: top;\n",
       "    }\n",
       "\n",
       "    .dataframe thead th {\n",
       "        text-align: right;\n",
       "    }\n",
       "</style>\n",
       "<table border=\"1\" class=\"dataframe\">\n",
       "  <thead>\n",
       "    <tr style=\"text-align: right;\">\n",
       "      <th></th>\n",
       "      <th>url</th>\n",
       "      <th>type_of_offer</th>\n",
       "      <th>type_of_prop</th>\n",
       "      <th>name</th>\n",
       "      <th>price</th>\n",
       "      <th>currency</th>\n",
       "      <th>Estado</th>\n",
       "      <th>Ciudad</th>\n",
       "      <th>Colonia</th>\n",
       "      <th>Superficie total</th>\n",
       "      <th>...</th>\n",
       "      <th>site</th>\n",
       "      <th>Cuota mensual de mantenimiento</th>\n",
       "      <th>Bodegas</th>\n",
       "      <th>Número de piso de la unidad</th>\n",
       "      <th>Disposición</th>\n",
       "      <th>Departamentos por piso</th>\n",
       "      <th>Orientación</th>\n",
       "      <th>Tipo de departamento</th>\n",
       "      <th>Tipo de casa</th>\n",
       "      <th>Tipo de propiedad</th>\n",
       "    </tr>\n",
       "  </thead>\n",
       "  <tbody>\n",
       "    <tr>\n",
       "      <th>0</th>\n",
       "      <td>https://departamento.metroscubicos.com/MLM-960...</td>\n",
       "      <td>sale</td>\n",
       "      <td>apartments</td>\n",
       "      <td>Departamentos De Lujo Ubicados En La Colonia M...</td>\n",
       "      <td>3500000.0</td>\n",
       "      <td>MXN</td>\n",
       "      <td>Chiapas</td>\n",
       "      <td>Tuxtla Gutierrez</td>\n",
       "      <td>El Mirador</td>\n",
       "      <td>230.0</td>\n",
       "      <td>...</td>\n",
       "      <td>Data\\Chiapas_apartments.json</td>\n",
       "      <td>NaN</td>\n",
       "      <td>NaN</td>\n",
       "      <td>NaN</td>\n",
       "      <td>NaN</td>\n",
       "      <td>NaN</td>\n",
       "      <td>NaN</td>\n",
       "      <td>NaN</td>\n",
       "      <td>NaN</td>\n",
       "      <td>NaN</td>\n",
       "    </tr>\n",
       "    <tr>\n",
       "      <th>1</th>\n",
       "      <td>https://departamento.metroscubicos.com/MLM-958...</td>\n",
       "      <td>sale</td>\n",
       "      <td>apartments</td>\n",
       "      <td>Departamentos En Venta 1er. Nivel Zona Oriente...</td>\n",
       "      <td>575000.0</td>\n",
       "      <td>MXN</td>\n",
       "      <td>Chiapas</td>\n",
       "      <td>Tuxtla Gutierrez</td>\n",
       "      <td>NaN</td>\n",
       "      <td>57.0</td>\n",
       "      <td>...</td>\n",
       "      <td>Data\\Chiapas_apartments.json</td>\n",
       "      <td>NaN</td>\n",
       "      <td>NaN</td>\n",
       "      <td>NaN</td>\n",
       "      <td>NaN</td>\n",
       "      <td>NaN</td>\n",
       "      <td>NaN</td>\n",
       "      <td>NaN</td>\n",
       "      <td>NaN</td>\n",
       "      <td>NaN</td>\n",
       "    </tr>\n",
       "    <tr>\n",
       "      <th>2</th>\n",
       "      <td>https://departamento.metroscubicos.com/MLM-958...</td>\n",
       "      <td>sale</td>\n",
       "      <td>apartments</td>\n",
       "      <td>Departamentos En Venta Planta  Baja Zona Orien...</td>\n",
       "      <td>590000.0</td>\n",
       "      <td>MXN</td>\n",
       "      <td>Chiapas</td>\n",
       "      <td>Tuxtla Gutierrez</td>\n",
       "      <td>NaN</td>\n",
       "      <td>57.0</td>\n",
       "      <td>...</td>\n",
       "      <td>Data\\Chiapas_apartments.json</td>\n",
       "      <td>NaN</td>\n",
       "      <td>NaN</td>\n",
       "      <td>NaN</td>\n",
       "      <td>NaN</td>\n",
       "      <td>NaN</td>\n",
       "      <td>NaN</td>\n",
       "      <td>NaN</td>\n",
       "      <td>NaN</td>\n",
       "      <td>NaN</td>\n",
       "    </tr>\n",
       "    <tr>\n",
       "      <th>3</th>\n",
       "      <td>https://departamento.metroscubicos.com/MLM-960...</td>\n",
       "      <td>sale</td>\n",
       "      <td>apartments</td>\n",
       "      <td>Últimos Departamentos En Venta En Edificio  Li...</td>\n",
       "      <td>1050000.0</td>\n",
       "      <td>MXN</td>\n",
       "      <td>Chiapas</td>\n",
       "      <td>Tuxtla Gutierrez</td>\n",
       "      <td>Rivera Cerro Hueco</td>\n",
       "      <td>74.0</td>\n",
       "      <td>...</td>\n",
       "      <td>Data\\Chiapas_apartments.json</td>\n",
       "      <td>NaN</td>\n",
       "      <td>NaN</td>\n",
       "      <td>NaN</td>\n",
       "      <td>NaN</td>\n",
       "      <td>NaN</td>\n",
       "      <td>NaN</td>\n",
       "      <td>NaN</td>\n",
       "      <td>NaN</td>\n",
       "      <td>NaN</td>\n",
       "    </tr>\n",
       "    <tr>\n",
       "      <th>4</th>\n",
       "      <td>https://departamento.metroscubicos.com/MLM-960...</td>\n",
       "      <td>sale</td>\n",
       "      <td>apartments</td>\n",
       "      <td>Desarrollo Privado Nuevo De Departamentos En V...</td>\n",
       "      <td>975000.0</td>\n",
       "      <td>MXN</td>\n",
       "      <td>Chiapas</td>\n",
       "      <td>Tuxtla Gutierrez</td>\n",
       "      <td>El Cocal</td>\n",
       "      <td>78.0</td>\n",
       "      <td>...</td>\n",
       "      <td>Data\\Chiapas_apartments.json</td>\n",
       "      <td>NaN</td>\n",
       "      <td>NaN</td>\n",
       "      <td>NaN</td>\n",
       "      <td>NaN</td>\n",
       "      <td>NaN</td>\n",
       "      <td>NaN</td>\n",
       "      <td>NaN</td>\n",
       "      <td>NaN</td>\n",
       "      <td>NaN</td>\n",
       "    </tr>\n",
       "  </tbody>\n",
       "</table>\n",
       "<p>5 rows × 27 columns</p>\n",
       "</div>"
      ],
      "text/plain": [
       "                                                 url type_of_offer  \\\n",
       "0  https://departamento.metroscubicos.com/MLM-960...          sale   \n",
       "1  https://departamento.metroscubicos.com/MLM-958...          sale   \n",
       "2  https://departamento.metroscubicos.com/MLM-958...          sale   \n",
       "3  https://departamento.metroscubicos.com/MLM-960...          sale   \n",
       "4  https://departamento.metroscubicos.com/MLM-960...          sale   \n",
       "\n",
       "  type_of_prop                                               name      price  \\\n",
       "0   apartments  Departamentos De Lujo Ubicados En La Colonia M...  3500000.0   \n",
       "1   apartments  Departamentos En Venta 1er. Nivel Zona Oriente...   575000.0   \n",
       "2   apartments  Departamentos En Venta Planta  Baja Zona Orien...   590000.0   \n",
       "3   apartments  Últimos Departamentos En Venta En Edificio  Li...  1050000.0   \n",
       "4   apartments  Desarrollo Privado Nuevo De Departamentos En V...   975000.0   \n",
       "\n",
       "  currency   Estado            Ciudad             Colonia  Superficie total  \\\n",
       "0      MXN  Chiapas  Tuxtla Gutierrez          El Mirador             230.0   \n",
       "1      MXN  Chiapas  Tuxtla Gutierrez                 NaN              57.0   \n",
       "2      MXN  Chiapas  Tuxtla Gutierrez                 NaN              57.0   \n",
       "3      MXN  Chiapas  Tuxtla Gutierrez  Rivera Cerro Hueco              74.0   \n",
       "4      MXN  Chiapas  Tuxtla Gutierrez            El Cocal              78.0   \n",
       "\n",
       "   ...                          site  Cuota mensual de mantenimiento  Bodegas  \\\n",
       "0  ...  Data\\Chiapas_apartments.json                             NaN      NaN   \n",
       "1  ...  Data\\Chiapas_apartments.json                             NaN      NaN   \n",
       "2  ...  Data\\Chiapas_apartments.json                             NaN      NaN   \n",
       "3  ...  Data\\Chiapas_apartments.json                             NaN      NaN   \n",
       "4  ...  Data\\Chiapas_apartments.json                             NaN      NaN   \n",
       "\n",
       "   Número de piso de la unidad  Disposición  Departamentos por piso  \\\n",
       "0                          NaN          NaN                     NaN   \n",
       "1                          NaN          NaN                     NaN   \n",
       "2                          NaN          NaN                     NaN   \n",
       "3                          NaN          NaN                     NaN   \n",
       "4                          NaN          NaN                     NaN   \n",
       "\n",
       "   Orientación Tipo de departamento  Tipo de casa  Tipo de propiedad  \n",
       "0          NaN                  NaN           NaN                NaN  \n",
       "1          NaN                  NaN           NaN                NaN  \n",
       "2          NaN                  NaN           NaN                NaN  \n",
       "3          NaN                  NaN           NaN                NaN  \n",
       "4          NaN                  NaN           NaN                NaN  \n",
       "\n",
       "[5 rows x 27 columns]"
      ]
     },
     "execution_count": 11,
     "metadata": {},
     "output_type": "execute_result"
    }
   ],
   "source": [
    "dfs = []\n",
    "for file in file_list:\n",
    "    with open(file) as f:\n",
    "        json_data = pd.json_normalize(json.loads(f.read()))\n",
    "        json_data['site'] = file.rsplit(\"/\", 1)[-1]\n",
    "    dfs.append(json_data)\n",
    "df = pd.concat(dfs)\n",
    "df.head()"
   ]
  },
  {
   "cell_type": "code",
   "execution_count": 16,
   "metadata": {},
   "outputs": [
    {
     "name": "stdout",
     "output_type": "stream",
     "text": [
      "3471\n"
     ]
    }
   ],
   "source": [
    "index = df.index\n",
    "number_of_rows = len(index)\n",
    "print(number_of_rows)"
   ]
  },
  {
   "cell_type": "code",
   "execution_count": 19,
   "metadata": {},
   "outputs": [],
   "source": [
    "df.to_csv('National_data.csv')\n"
   ]
  },
  {
   "cell_type": "code",
   "execution_count": null,
   "metadata": {},
   "outputs": [],
   "source": []
  },
  {
   "cell_type": "code",
   "execution_count": null,
   "metadata": {},
   "outputs": [],
   "source": [
    "data_cdmx_apartments = 'Data/data_cdmx_apartments.json'\n",
    "data_cdmx_houses = 'Data/data_cdmx_houses.json'"
   ]
  },
  {
   "cell_type": "code",
   "execution_count": null,
   "metadata": {},
   "outputs": [],
   "source": [
    "data_cdmx_houses = pd.read_json(data_cdmx_houses)\n",
    "data_cdmx_apartments = pd.read_json(data_cdmx_apartments)\n",
    "\n",
    "\n",
    "cdmx_frames = [data_cdmx_houses, data_cdmx_apartments]\n",
    "cdmx_df = pd.concat(cdmx_frames)\n",
    "cdmx_df"
   ]
  },
  {
   "cell_type": "code",
   "execution_count": null,
   "metadata": {},
   "outputs": [],
   "source": [
    "cdmx_df.dtypes"
   ]
  },
  {
   "cell_type": "code",
   "execution_count": null,
   "metadata": {},
   "outputs": [],
   "source": [
    "cdmx_df.drop_duplicates"
   ]
  },
  {
   "cell_type": "code",
   "execution_count": null,
   "metadata": {},
   "outputs": [],
   "source": [
    "cdmx_df['type_of_prop'].value_counts()"
   ]
  },
  {
   "cell_type": "code",
   "execution_count": null,
   "metadata": {},
   "outputs": [],
   "source": [
    "cdmx_df['currency'].value_counts()"
   ]
  },
  {
   "cell_type": "code",
   "execution_count": null,
   "metadata": {},
   "outputs": [],
   "source": [
    "cdmx_df.drop"
   ]
  },
  {
   "cell_type": "code",
   "execution_count": null,
   "metadata": {},
   "outputs": [],
   "source": []
  }
 ],
 "metadata": {
  "kernelspec": {
   "display_name": "Python 3",
   "language": "python",
   "name": "python3"
  },
  "language_info": {
   "codemirror_mode": {
    "name": "ipython",
    "version": 3
   },
   "file_extension": ".py",
   "mimetype": "text/x-python",
   "name": "python",
   "nbconvert_exporter": "python",
   "pygments_lexer": "ipython3",
   "version": "3.8.5"
  }
 },
 "nbformat": 4,
 "nbformat_minor": 5
}
